{
 "cells": [
  {
   "cell_type": "code",
   "execution_count": 98,
   "metadata": {},
   "outputs": [],
   "source": [
    "import math\n",
    "import pandas as pd\n",
    "import re\n",
    "\n",
    "p_spam = 0.9    #mentioned in the question\n",
    "p_nonSpam = 0.1 #mentioned in the question"
   ]
  },
  {
   "cell_type": "code",
   "execution_count": 99,
   "metadata": {},
   "outputs": [],
   "source": [
    "#Table 1 values\n",
    "probability_array = {\n",
    "    \"spam\" : {\n",
    "        \"Anti-aging\" : 0.00062,\n",
    "        \"Customers\" : 0.005,\n",
    "        \"Fun\" : 0.00015,\n",
    "        \"Gronngen\" : 0.00001,\n",
    "        \"Lecture\" : 0.000015,\n",
    "        \"Money\" : 0.002,\n",
    "        \"Vacation\" : 0.00025,\n",
    "        \"Viagra\" : 0.001,\n",
    "        \"Watches\" : 0.0003\n",
    "    },\n",
    "    \"non-spam\" : {\n",
    "        \"Anti-aging\" : 0.000000035,\n",
    "        \"Customers\" : 0.0001,\n",
    "        \"Fun\" : 0.0007,\n",
    "        \"Gronngen\" : 0.001,\n",
    "        \"Lecture\" : 0.0008,\n",
    "        \"Money\" : 0.0005,\n",
    "        \"Vacation\" : 0.00014,\n",
    "        \"Viagra\" : 0.0000003,\n",
    "        \"Watches\" : 0.000004\n",
    "    }\n",
    "}"
   ]
  },
  {
   "cell_type": "code",
   "execution_count": 100,
   "metadata": {},
   "outputs": [
    {
     "name": "stdout",
     "output_type": "stream",
     "text": [
      "                spam      non-spam\n",
      "Anti-aging  0.000620  3.500000e-08\n",
      "Customers   0.005000  1.000000e-04\n",
      "Fun         0.000150  7.000000e-04\n",
      "Gronngen    0.000010  1.000000e-03\n",
      "Lecture     0.000015  8.000000e-04\n",
      "Money       0.002000  5.000000e-04\n",
      "Vacation    0.000250  1.400000e-04\n",
      "Viagra      0.001000  3.000000e-07\n",
      "Watches     0.000300  4.000000e-06\n"
     ]
    }
   ],
   "source": [
    "#To display the values\n",
    "df_probability_array = pd.DataFrame(probability_array)\n",
    "print(df_probability_array)"
   ]
  },
  {
   "cell_type": "code",
   "execution_count": 101,
   "metadata": {},
   "outputs": [],
   "source": [
    "#To read the words in the email that have the keywords as mentioned in the table\n",
    "def find_keywords_in_sentence (sentence, df_probability_array):\n",
    "    #To make sure all the words in the sentence are in lower case\n",
    "    sentence = re.sub(r'[^\\w\\s]', '', sentence.lower())\n",
    "    keywords = [word.lower() for word in df_probability_array.index]\n",
    "    words_in_sentence = sentence.split()\n",
    "    matches = [word for word in words_in_sentence if word in keywords]\n",
    "    return matches"
   ]
  },
  {
   "cell_type": "code",
   "execution_count": 102,
   "metadata": {},
   "outputs": [],
   "source": [
    "#Code to define Naive Bayes \n",
    "def naive_bayes_calculation(keywords_in_sentence, p_spam, p_nonSpam, df_probability_array):\n",
    "    #To make sure the words are capitalized to match the probability array\n",
    "    p_spam_email = math.prod([df_probability_array[\"spam\"].get(word.capitalize(), 1) for word in keywords_in_sentence]) \n",
    "    p_nonSpam_email = math.prod([df_probability_array[\"non-spam\"].get(word.capitalize(), 1) for word in keywords_in_sentence])\n",
    "    #Multiply with the prior probabaility\n",
    "    p_spam_in_email = p_spam * p_spam_email\n",
    "    p_nonSpam_in_email = p_nonSpam * p_nonSpam_email\n",
    "\n",
    "    return p_spam_in_email, p_nonSpam_in_email\n"
   ]
  },
  {
   "cell_type": "code",
   "execution_count": 103,
   "metadata": {},
   "outputs": [],
   "source": [
    "#To display the results\n",
    "def display_results (sentence):\n",
    "    print (sentence)\n",
    "    keywords_in_email = find_keywords_in_sentence (sentence, df_probability_array)\n",
    "    print(f\"Keywords from this sentence : {keywords_in_email}\")\n",
    "    spam_prob , nonSpam_prob = naive_bayes_calculation(keywords_in_email, p_spam, p_nonSpam, df_probability_array)\n",
    "    print(f\"Probability of spam is {spam_prob:.12f} and probability of not spam in {nonSpam_prob:.12f}.\")\n",
    "    print(f\"From this we can coclude that the above sentence is {'spam.' if spam_prob > nonSpam_prob else 'non-spam.'} \\n\")"
   ]
  },
  {
   "cell_type": "code",
   "execution_count": 104,
   "metadata": {},
   "outputs": [
    {
     "name": "stdout",
     "output_type": "stream",
     "text": [
      "\"We offer our dear customers a wide selection of classy watches.\"\n",
      "Keywords from this sentence : ['customers', 'watches']\n",
      "Probability of spam is 0.000001350000 and probability of not spam in 0.000000000040.\n",
      "From this we can coclude that the above sentence is spam. \n",
      "\n",
      "\"Did you have fun on vacation? I sure did!\"\n",
      "Keywords from this sentence : ['fun', 'vacation']\n",
      "Probability of spam is 0.000000033750 and probability of not spam in 0.000000009800.\n",
      "From this we can coclude that the above sentence is spam. \n",
      "\n"
     ]
    }
   ],
   "source": [
    "#Part (a)\n",
    "sentence = \"\\\"We offer our dear customers a wide selection of classy watches.\\\"\"\n",
    "display_results(sentence)\n",
    "\n",
    "#Part (b)\n",
    "sentence = \"\\\"Did you have fun on vacation? I sure did!\\\"\"\n",
    "display_results(sentence)\n",
    "\n"
   ]
  }
 ],
 "metadata": {
  "kernelspec": {
   "display_name": "ai_env",
   "language": "python",
   "name": "python3"
  },
  "language_info": {
   "codemirror_mode": {
    "name": "ipython",
    "version": 3
   },
   "file_extension": ".py",
   "mimetype": "text/x-python",
   "name": "python",
   "nbconvert_exporter": "python",
   "pygments_lexer": "ipython3",
   "version": "3.10.13"
  }
 },
 "nbformat": 4,
 "nbformat_minor": 2
}
