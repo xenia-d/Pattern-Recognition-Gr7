{
 "cells": [
  {
   "cell_type": "code",
   "execution_count": 34,
   "metadata": {},
   "outputs": [],
   "source": [
    "import numpy as np\n",
    "import scipy.io\n",
    "import pandas as pd\n",
    "import matplotlib.pyplot as plt\n",
    "from scipy.spatial.distance import pdist, squareform\n",
    "from scipy.stats import mode"
   ]
  },
  {
   "cell_type": "code",
   "execution_count": 35,
   "metadata": {},
   "outputs": [
    {
     "name": "stdout",
     "output_type": "stream",
     "text": [
      "dict_keys(['__header__', '__version__', '__globals__', 'outcomes'])\n",
      "     0  1\n",
      "0    0  0\n",
      "1    1  1\n",
      "2    0  0\n",
      "3    1  1\n",
      "4    1  1\n",
      "..  .. ..\n",
      "195  1  1\n",
      "196  0  0\n",
      "197  1  0\n",
      "198  1  0\n",
      "199  0  0\n",
      "\n",
      "[200 rows x 2 columns]\n"
     ]
    }
   ],
   "source": [
    "data = scipy.io.loadmat('task_9.mat')\n",
    "print(data.keys())\n",
    "features = data['outcomes']\n",
    "\n",
    "df= pd.DataFrame(data=features)\n",
    "print(df)"
   ]
  }
 ],
 "metadata": {
  "kernelspec": {
   "display_name": "Python 3",
   "language": "python",
   "name": "python3"
  },
  "language_info": {
   "codemirror_mode": {
    "name": "ipython",
    "version": 3
   },
   "file_extension": ".py",
   "mimetype": "text/x-python",
   "name": "python",
   "nbconvert_exporter": "python",
   "pygments_lexer": "ipython3",
   "version": "3.10.7"
  }
 },
 "nbformat": 4,
 "nbformat_minor": 2
}
