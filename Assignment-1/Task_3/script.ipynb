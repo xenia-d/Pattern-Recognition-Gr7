{
 "cells": [
  {
   "cell_type": "code",
   "execution_count": 45,
   "metadata": {},
   "outputs": [],
   "source": [
    "import pandas as pd\n",
    "import scipy\n",
    "import matplotlib.pyplot as plt\n",
    "import numpy as np"
   ]
  },
  {
   "cell_type": "code",
   "execution_count": 65,
   "metadata": {},
   "outputs": [],
   "source": [
    "data = [[4, 5, 6], [6, 3, 9], [8, 7, 3], [7, 4, 8], [4, 6, 5]]\n",
    "df = pd.DataFrame(data)"
   ]
  },
  {
   "cell_type": "code",
   "execution_count": 66,
   "metadata": {},
   "outputs": [
    {
     "name": "stdout",
     "output_type": "stream",
     "text": [
      "0    5.8\n",
      "1    5.0\n",
      "2    6.2\n",
      "dtype: float64\n",
      "      0     1     2\n",
      "0  3.20  0.25 -0.45\n",
      "1  0.25  2.50 -3.75\n",
      "2 -0.45 -3.75  5.70\n"
     ]
    }
   ],
   "source": [
    "cov = df.cov()\n",
    "means = df.mean()\n",
    "print(means)\n",
    "print(cov)"
   ]
  },
  {
   "cell_type": "code",
   "execution_count": 67,
   "metadata": {},
   "outputs": [
    {
     "data": {
      "text/plain": [
       "array([5.42861892e-02, 6.12870809e-04, 7.03003684e-29])"
      ]
     },
     "execution_count": 67,
     "metadata": {},
     "output_type": "execute_result"
    }
   ],
   "source": [
    "question_data = [[5, 5, 6], [3, 5, 7], [4, 6.5, 1]]\n",
    "scipy.stats.multivariate_normal.pdf(question_data, mean=means, cov=cov)"
   ]
  }
 ],
 "metadata": {
  "kernelspec": {
   "display_name": "UiML",
   "language": "python",
   "name": "python3"
  },
  "language_info": {
   "codemirror_mode": {
    "name": "ipython",
    "version": 3
   },
   "file_extension": ".py",
   "mimetype": "text/x-python",
   "name": "python",
   "nbconvert_exporter": "python",
   "pygments_lexer": "ipython3",
   "version": "3.9.19"
  }
 },
 "nbformat": 4,
 "nbformat_minor": 2
}
