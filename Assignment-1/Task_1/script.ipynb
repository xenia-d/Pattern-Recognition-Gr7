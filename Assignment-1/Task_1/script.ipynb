{
 "cells": [
  {
   "cell_type": "code",
   "execution_count": 52,
   "metadata": {},
   "outputs": [],
   "source": [
    "import numpy as np\n",
    "import scipy.io\n",
    "import pandas as pd\n",
    "import matplotlib.pyplot as plt"
   ]
  },
  {
   "cell_type": "code",
   "execution_count": 53,
   "metadata": {},
   "outputs": [
    {
     "name": "stdout",
     "output_type": "stream",
     "text": [
      "dict_keys(['__header__', '__version__', '__globals__', 'lab1_1'])\n",
      "    height  age  weight\n",
      "0      181   25      69\n",
      "1      184   30      76\n",
      "2      190   27      81\n",
      "3      192   23      82\n",
      "4      178   37      68\n",
      "5      180   33      71\n",
      "6      181   40      70\n",
      "7      185   42      73\n",
      "8      192   45      84\n",
      "9      191   48      91\n",
      "10     177   49      74\n",
      "11     183   50      83\n",
      "12     181   41      71\n",
      "13     183   43      75\n",
      "14     191   44      84\n",
      "15     191   46      90\n",
      "16     178   47      73\n",
      "17     181   44      77\n",
      "18     181   55      86\n",
      "19     184   52      86\n",
      "20     192   51      93\n",
      "21     191   54      95\n",
      "22     177   53      82\n",
      "23     183   43      74\n"
     ]
    }
   ],
   "source": [
    "data = scipy.io.loadmat('task_1.mat')\n",
    "print(data.keys())\n",
    "features = data['lab1_1']\n",
    "\n",
    "df= pd.DataFrame(data=features, columns = ['height', 'age', 'weight'])\n",
    "print(df)"
   ]
  },
  {
   "cell_type": "code",
   "execution_count": 54,
   "metadata": {},
   "outputs": [
    {
     "data": {
      "text/html": [
       "<div>\n",
       "<style scoped>\n",
       "    .dataframe tbody tr th:only-of-type {\n",
       "        vertical-align: middle;\n",
       "    }\n",
       "\n",
       "    .dataframe tbody tr th {\n",
       "        vertical-align: top;\n",
       "    }\n",
       "\n",
       "    .dataframe thead th {\n",
       "        text-align: right;\n",
       "    }\n",
       "</style>\n",
       "<table border=\"1\" class=\"dataframe\">\n",
       "  <thead>\n",
       "    <tr style=\"text-align: right;\">\n",
       "      <th></th>\n",
       "      <th>height</th>\n",
       "      <th>age</th>\n",
       "      <th>weight</th>\n",
       "    </tr>\n",
       "  </thead>\n",
       "  <tbody>\n",
       "    <tr>\n",
       "      <th>height</th>\n",
       "      <td>28.432971</td>\n",
       "      <td>-3.018116</td>\n",
       "      <td>30.586957</td>\n",
       "    </tr>\n",
       "    <tr>\n",
       "      <th>age</th>\n",
       "      <td>-3.018116</td>\n",
       "      <td>84.601449</td>\n",
       "      <td>37.913043</td>\n",
       "    </tr>\n",
       "    <tr>\n",
       "      <th>weight</th>\n",
       "      <td>30.586957</td>\n",
       "      <td>37.913043</td>\n",
       "      <td>64.260870</td>\n",
       "    </tr>\n",
       "  </tbody>\n",
       "</table>\n",
       "</div>"
      ],
      "text/plain": [
       "           height        age     weight\n",
       "height  28.432971  -3.018116  30.586957\n",
       "age     -3.018116  84.601449  37.913043\n",
       "weight  30.586957  37.913043  64.260870"
      ]
     },
     "execution_count": 54,
     "metadata": {},
     "output_type": "execute_result"
    }
   ],
   "source": [
    "covariances = df.cov()\n",
    "covariances"
   ]
  },
  {
   "cell_type": "code",
   "execution_count": 55,
   "metadata": {},
   "outputs": [
    {
     "name": "stdout",
     "output_type": "stream",
     "text": [
      "28.43297101449275\n"
     ]
    },
    {
     "name": "stderr",
     "output_type": "stream",
     "text": [
      "C:\\Users\\polyx\\AppData\\Local\\Temp\\ipykernel_53892\\721228421.py:2: FutureWarning: Series.__getitem__ treating keys as positions is deprecated. In a future version, integer keys will always be treated as labels (consistent with DataFrame behavior). To access a value by position, use `ser.iloc[pos]`\n",
      "  variance_age = variances[1]\n",
      "C:\\Users\\polyx\\AppData\\Local\\Temp\\ipykernel_53892\\721228421.py:3: FutureWarning: Series.__getitem__ treating keys as positions is deprecated. In a future version, integer keys will always be treated as labels (consistent with DataFrame behavior). To access a value by position, use `ser.iloc[pos]`\n",
      "  variance_height = variances[0]\n",
      "C:\\Users\\polyx\\AppData\\Local\\Temp\\ipykernel_53892\\721228421.py:4: FutureWarning: Series.__getitem__ treating keys as positions is deprecated. In a future version, integer keys will always be treated as labels (consistent with DataFrame behavior). To access a value by position, use `ser.iloc[pos]`\n",
      "  variance_weight = variances[2]\n"
     ]
    }
   ],
   "source": [
    "variances = df.var()\n",
    "variance_age = variances[1]\n",
    "variance_height = variances[0]\n",
    "variance_weight = variances[2]\n",
    "print(variance_height)"
   ]
  },
  {
   "cell_type": "code",
   "execution_count": 56,
   "metadata": {},
   "outputs": [
    {
     "name": "stdout",
     "output_type": "stream",
     "text": [
      "1.0\n"
     ]
    }
   ],
   "source": [
    "pairwise_correlation = covariances['weight']['weight']/(np.sqrt(variance_weight*variance_weight))\n",
    "print(pairwise_correlation)"
   ]
  },
  {
   "cell_type": "code",
   "execution_count": 60,
   "metadata": {},
   "outputs": [
    {
     "name": "stdout",
     "output_type": "stream",
     "text": [
      "0     25\n",
      "1     30\n",
      "2     27\n",
      "3     23\n",
      "4     37\n",
      "5     33\n",
      "6     40\n",
      "7     42\n",
      "8     45\n",
      "9     48\n",
      "10    49\n",
      "11    50\n",
      "12    41\n",
      "13    43\n",
      "14    44\n",
      "15    46\n",
      "16    47\n",
      "17    44\n",
      "18    55\n",
      "19    52\n",
      "20    51\n",
      "21    54\n",
      "22    53\n",
      "23    43\n",
      "Name: age, dtype: uint8\n"
     ]
    }
   ],
   "source": [
    "# Largest correlation: height and weight\n",
    "# Second largest correlation: age and weight\n",
    "\n",
    "heights = df.iloc[:,0]\n",
    "ages = df.iloc[:,1]\n",
    "weights = df.iloc[:,2]\n",
    "\n",
    "print(ages)"
   ]
  },
  {
   "cell_type": "code",
   "execution_count": 66,
   "metadata": {},
   "outputs": [
    {
     "data": {
      "image/png": "[encoded data removed]",
      "text/plain": [
       "<Figure size 640x480 with 1 Axes>"
      ]
     },
     "metadata": {},
     "output_type": "display_data"
    }
   ],
   "source": [
    "plt.scatter(heights, weights)\n",
    "plt.xlabel(\"Height\")\n",
    "plt.ylabel(\"Weight\")\n",
    "plt.ylim(40,120)\n",
    "\n",
    "plt.show()"
   ]
  },
  {
   "cell_type": "code",
   "execution_count": 62,
   "metadata": {},
   "outputs": [
    {
     "data": {
      "image/png": "[encoded data removed]",
      "text/plain": [
       "<Figure size 640x480 with 1 Axes>"
      ]
     },
     "metadata": {},
     "output_type": "display_data"
    }
   ],
   "source": [
    "plt.scatter(ages, weights)\n",
    "\n",
    "plt.xlabel(\"Age\")\n",
    "plt.ylabel(\"Weight\")\n",
    "\n",
    "plt.show()"
   ]
  }
 ],
 "metadata": {
  "kernelspec": {
   "display_name": "Python 3",
   "language": "python",
   "name": "python3"
  },
  "language_info": {
   "codemirror_mode": {
    "name": "ipython",
    "version": 3
   },
   "file_extension": ".py",
   "mimetype": "text/x-python",
   "name": "python",
   "nbconvert_exporter": "python",
   "pygments_lexer": "ipython3",
   "version": "3.10.7"
  }
 },
 "nbformat": 4,
 "nbformat_minor": 2
}
