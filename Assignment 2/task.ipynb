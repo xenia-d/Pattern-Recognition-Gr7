{
 "cells": [
  {
   "cell_type": "code",
   "execution_count": 8,
   "metadata": {},
   "outputs": [],
   "source": [
    "from tensorflow.keras.preprocessing.image import ImageDataGenerator\n",
    "from collections import Counter\n",
    "import matplotlib.pyplot as plt\n",
    "import numpy as np"
   ]
  },
  {
   "cell_type": "code",
   "execution_count": 23,
   "metadata": {},
   "outputs": [
    {
     "name": "stdout",
     "output_type": "stream",
     "text": [
      "Found 170 images belonging to 5 classes.\n",
      "Images batch shape: (32, 128, 128, 3)\n",
      "Labels batch shape: (32, 5)\n"
     ]
    }
   ],
   "source": [
    "#To store the path of the image dataset\n",
    "path_data = 'C:/Users/amrut/University of Groningen - Document/Pattern Recognition/Assignment/Pattern-Recognition-Gr7/Assignment 2/BigCats'\n",
    "\n",
    "#To set up the ImageDataGenerator\n",
    "datagen = ImageDataGenerator(\n",
    "    rescale=1./255,\n",
    "    rotation_range=40,\n",
    "    width_shift_range=0.2,\n",
    "    height_shift_range=0.2,\n",
    "    shear_range=0.2,\n",
    "    zoom_range=0.2,\n",
    "    horizontal_flip=True,\n",
    "    fill_mode='wrap'\n",
    ")\n",
    "\n",
    "#To apply the augmention to the training dataset\n",
    "train_data = datagen.flow_from_directory(\n",
    "    path_data, \n",
    "    target_size=(128, 128),  \n",
    "    batch_size=32,           \n",
    "    class_mode='categorical',\n",
    "    color_mode='rgb'\n",
    ")\n",
    "\n",
    "#To access the loaded data\n",
    "images, labels = next(train_data)\n",
    "print(\"Images batch shape:\", images.shape)\n",
    "print(\"Labels batch shape:\", labels.shape)"
   ]
  },
  {
   "cell_type": "code",
   "execution_count": 34,
   "metadata": {},
   "outputs": [
    {
     "name": "stdout",
     "output_type": "stream",
     "text": [
      "The name of each class and the number of images in the dataset are:\n",
      "Cheetah: 38\n",
      "Jaguar: 30\n",
      "Leopard: 31\n",
      "Lion: 32\n",
      "Tiger: 39\n",
      "Number of classes in this dataset is: 5\n"
     ]
    }
   ],
   "source": [
    "#To display the number of classes in the dataset\n",
    "count_class = Counter(train_data.classes)\n",
    "i=0\n",
    "keys = train_data.class_indices.keys()\n",
    "label = count_class.values()\n",
    "#To display how many images are there in each class\n",
    "print(\"The name of each class and the number of images in the dataset are:\")\n",
    "for class_name, count in zip(keys, label):\n",
    "    print(f\"{class_name}: {count}\")\n",
    "    i=i+1\n",
    "\n",
    "print(f\"Number of classes in this dataset is: {i}\")"
   ]
  },
  {
   "cell_type": "code",
   "execution_count": 42,
   "metadata": {},
   "outputs": [
    {
     "data": {
      "image/png": "[encoded data removed]",
      "text/plain": [
       "<Figure size 640x480 with 1 Axes>"
      ]
     },
     "metadata": {},
     "output_type": "display_data"
    }
   ],
   "source": [
    "# Creating plot\n",
    "#plt.figs\n",
    "plt.bar(keys, label, color = 'darkblue')\n",
    "plt.title(\"Images in each class\")\n",
    "plt.xlabel(\"Different classes\")\n",
    "plt.ylabel(\"Images in each class\")\n",
    "for i, count in enumerate(label):\n",
    "    plt.text(i, count + 0.5, str(count), ha='center', color='black')  # ha='center' centers the text\n",
    "\n",
    "\n",
    "# show plot\n",
    "plt.show()"
   ]
  },
  {
   "cell_type": "code",
   "execution_count": null,
   "metadata": {},
   "outputs": [],
   "source": [
    "class_names = list(train_data.class_indices.keys())\n",
    "\n",
    "# Create a figure to display one image per class\n",
    "fig, axes = plt.subplots(1, 5, figsize=(15, 15))\n",
    "\n",
    "# Iterate over each class index\n",
    "for class_idx, class_name in enumerate(class_names):\n",
    "    # Find the indices of images belonging to this class\n",
    "    class_image_indices = np.where(train_data.classes == class_idx)[0]\n",
    "    \n",
    "    # Get the first image path from this class\n",
    "    first_image_path = train_data.filepaths[class_image_indices[0]]\n",
    "    \n",
    "    # Load and display the image\n",
    "    img = plt.imread(first_image_path)\n",
    "    axes[class_idx].imshow(img)\n",
    "    axes[class_idx].set_title(class_name)\n",
    "    axes[class_idx].axis('off')\n",
    "\n",
    "plt.show()"
   ]
  },
  {
   "cell_type": "code",
   "execution_count": null,
   "metadata": {},
   "outputs": [],
   "source": []
  },
  {
   "cell_type": "code",
   "execution_count": null,
   "metadata": {},
   "outputs": [],
   "source": []
  },
  {
   "cell_type": "code",
   "execution_count": null,
   "metadata": {},
   "outputs": [],
   "source": []
  },
  {
   "cell_type": "code",
   "execution_count": null,
   "metadata": {},
   "outputs": [],
   "source": []
  },
  {
   "cell_type": "code",
   "execution_count": null,
   "metadata": {},
   "outputs": [],
   "source": []
  }
 ],
 "metadata": {
  "kernelspec": {
   "display_name": "ai_env",
   "language": "python",
   "name": "python3"
  },
  "language_info": {
   "codemirror_mode": {
    "name": "ipython",
    "version": 3
   },
   "file_extension": ".py",
   "mimetype": "text/x-python",
   "name": "python",
   "nbconvert_exporter": "python",
   "pygments_lexer": "ipython3",
   "version": "3.10.13"
  }
 },
 "nbformat": 4,
 "nbformat_minor": 2
}
