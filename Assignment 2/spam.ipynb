{
 "cells": [
  {
   "cell_type": "code",
   "execution_count": null,
   "metadata": {},
   "outputs": [],
   "source": [
    "import numpy as np\n",
    "from sklearn.decomposition import TruncatedSVD, PCA\n",
    "from sklearn.discriminant_analysis import LinearDiscriminantAnalysis as LDA\n",
    "\n",
    "# Sample data matrix with 5 samples and 3 features\n",
    "X = np.array([[1, 2, 3],\n",
    "              [4, 5, 6],\n",
    "              [7, 8, 9],\n",
    "              [1, 3, 5],\n",
    "              [2, 4, 6]])\n",
    "\n",
    "# Corresponding labels (5 samples, 3 classes)\n",
    "y = [0, 1, 2, 1, 0]  # 5 samples and 3 different classes\n",
    "\n",
    "# SVD for dimensionality reduction\n",
    "svd = TruncatedSVD(n_components=2)\n",
    "X_svd = svd.fit_transform(X)\n",
    "\n",
    "# PCA for dimensionality reduction\n",
    "pca = PCA(n_components=2)\n",
    "X_pca = pca.fit_transform(X)\n",
    "\n",
    "# LDA for dimensionality reduction\n",
    "lda = LDA(n_components=2)\n",
    "X_lda = lda.fit_transform(X, y)\n",
    "\n",
    "# Print results\n",
    "print(\"SVD result:\\n\", X_svd)\n",
    "print(\"PCA result:\\n\", X_pca)\n",
    "print(\"LDA result:\\n\", X_lda)\n"
   ]
  }
 ],
 "metadata": {
  "kernelspec": {
   "display_name": "ai_env",
   "language": "python",
   "name": "python3"
  },
  "language_info": {
   "name": "python",
   "version": "3.10.13"
  }
 },
 "nbformat": 4,
 "nbformat_minor": 2
}
