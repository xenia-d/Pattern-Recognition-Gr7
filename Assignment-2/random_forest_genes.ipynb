{
 "cells": [
  {
   "cell_type": "code",
   "execution_count": 2,
   "metadata": {},
   "outputs": [],
   "source": [
    "import pickle\n",
    "import numpy as np\n",
    "import pandas as pd\n",
    "from sklearn.ensemble import RandomForestClassifier\n",
    "from sklearn.model_selection import train_test_split\n",
    "from sklearn.metrics import classification_report, accuracy_score"
   ]
  },
  {
   "cell_type": "code",
   "execution_count": 4,
   "metadata": {},
   "outputs": [
    {
     "name": "stdout",
     "output_type": "stream",
     "text": [
      "gene_0        0.000000\n",
      "gene_1        0.040020\n",
      "gene_2        0.151090\n",
      "gene_3        0.187845\n",
      "gene_4        0.110167\n",
      "                ...   \n",
      "gene_20526    0.112659\n",
      "gene_20527    0.010855\n",
      "gene_20528    0.122829\n",
      "gene_20529    0.142775\n",
      "gene_20530    0.045038\n",
      "Length: 20531, dtype: float64\n"
     ]
    }
   ],
   "source": [
    "with open('mutual_info_genes.pkl', 'rb') as file:\n",
    "    data = pickle.load(file)\n",
    "\n",
    "\n",
    "print(data)\n",
    "\n"
   ]
  }
 ],
 "metadata": {
  "kernelspec": {
   "display_name": "Python 3",
   "language": "python",
   "name": "python3"
  },
  "language_info": {
   "codemirror_mode": {
    "name": "ipython",
    "version": 3
   },
   "file_extension": ".py",
   "mimetype": "text/x-python",
   "name": "python",
   "nbconvert_exporter": "python",
   "pygments_lexer": "ipython3",
   "version": "3.10.7"
  }
 },
 "nbformat": 4,
 "nbformat_minor": 2
}
