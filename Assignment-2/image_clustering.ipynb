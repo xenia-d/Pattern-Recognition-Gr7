{
 "cells": [
  {
   "cell_type": "code",
   "execution_count": 179,
   "id": "initial_id",
   "metadata": {
    "collapsed": true,
    "ExecuteTime": {
     "end_time": "2024-10-23T14:53:01.154006Z",
     "start_time": "2024-10-23T14:53:01.145244Z"
    }
   },
   "outputs": [],
   "source": [
    "import os\n",
    "import tensorflow as tf\n",
    "import cv2\n",
    "import numpy as np\n",
    "from sklearn.base import BaseEstimator, TransformerMixin\n",
    "from sklearn.pipeline import Pipeline\n",
    "from sklearn.decomposition import TruncatedSVD\n",
    "from sklearn.tree import DecisionTreeClassifier\n",
    "from sklearn.naive_bayes import GaussianNB\n",
    "from sklearn.neighbors import KNeighborsClassifier\n",
    "from sklearn.cluster import DBSCAN\n",
    "from sklearn.preprocessing import StandardScaler\n",
    "from sklearn.model_selection import train_test_split, GridSearchCV, cross_val_score, cross_validate, ParameterGrid\n",
    "from sklearn.metrics import accuracy_score, f1_score, confusion_matrix, silhouette_score, make_scorer, silhouette_score"
   ]
  },
  {
   "cell_type": "code",
   "execution_count": 2,
   "outputs": [],
   "source": [
    "class ImageLoader(BaseEstimator, TransformerMixin):\n",
    "    def __init__(self, data_directory, image_size=(256, 256)):\n",
    "        self.data_directory = data_directory\n",
    "        self.image_size = image_size\n",
    "        \n",
    "    def fit(self, X=None, y=None):\n",
    "        return self\n",
    "\n",
    "    def transform(self, X=None, y=None):\n",
    "        images = []\n",
    "        labels = []\n",
    "        # get image labels from the folder names\n",
    "        class_labels = os.listdir(self.data_directory)\n",
    "        class_labels.sort()\n",
    "        # loop through the directory\n",
    "        for label_idx, class_name in enumerate(class_labels):\n",
    "            class_dir = os.path.join(self.data_directory, class_name)\n",
    "            # wrong directory\n",
    "            if not os.path.isdir(class_dir): \n",
    "                continue\n",
    "            # loop through image files\n",
    "            for file_name in os.listdir(class_dir):\n",
    "                file_path = os.path.join(class_dir, file_name)\n",
    "                # check for valid image to load\n",
    "                if file_name.endswith(('.jpg', '.jpeg', '.png')):\n",
    "                    img = cv2.imread(file_path)\n",
    "                    img_resized = cv2.resize(img, self.image_size)\n",
    "                    if img is not None:\n",
    "                        images.append(img_resized)  # Store the raw image\n",
    "                        labels.append(label_idx)  # Store the label as index\n",
    "\n",
    "        images = np.array(images)\n",
    "        labels = np.array(labels)\n",
    "        return images, labels"
   ],
   "metadata": {
    "collapsed": false,
    "ExecuteTime": {
     "end_time": "2024-10-23T09:48:17.732185Z",
     "start_time": "2024-10-23T09:48:17.724207Z"
    }
   },
   "id": "cd35ad51bf5d7b3e"
  },
  {
   "cell_type": "code",
   "execution_count": 3,
   "outputs": [],
   "source": [
    "class ImageTransform(BaseEstimator, TransformerMixin):\n",
    "    def __init__(self, image_size=(128, 128), to_gray=True, normalize=True):\n",
    "        self.image_size = image_size\n",
    "        self.to_gray = to_gray\n",
    "        self.normalize = normalize\n",
    "\n",
    "    def set_params(self, **params):\n",
    "        if 'image_size' in params:\n",
    "            self.image_size = params['image_size']\n",
    "        if 'to_gray' in params:\n",
    "            self.to_gray = params['to_gray']\n",
    "        if 'normalize' in params:\n",
    "            self.normalize = params['normalize']\n",
    "        return self\n",
    "\n",
    "    def fit(self, X=None, y=None):\n",
    "        return self\n",
    "\n",
    "    def transform(self, X):\n",
    "        transformed_images = []\n",
    "        # preprocess\n",
    "        for img in X:\n",
    "            # resize\n",
    "            if self.image_size:\n",
    "                img = cv2.resize(img, self.image_size)\n",
    "            # grayscale\n",
    "            if self.to_gray:\n",
    "                img = cv2.cvtColor(img, cv2.COLOR_BGR2GRAY)\n",
    "            # normalize\n",
    "            if self.normalize:\n",
    "                img = img / 255.0  # Normalize to [0,1]\n",
    "            transformed_images.append(img)\n",
    "        \n",
    "        return np.array(transformed_images)"
   ],
   "metadata": {
    "collapsed": false,
    "ExecuteTime": {
     "end_time": "2024-10-23T09:48:34.533793Z",
     "start_time": "2024-10-23T09:48:34.521920Z"
    }
   },
   "id": "92afcad43c54ecd0"
  },
  {
   "cell_type": "code",
   "execution_count": 4,
   "outputs": [],
   "source": [
    "class SIFTFeatureExtractor(BaseEstimator, TransformerMixin):\n",
    "    def __init__(self, max_features=500):\n",
    "        # use opencv SIFT\n",
    "        self.sift = cv2.SIFT_create()\n",
    "        self.max_features = max_features\n",
    "\n",
    "    def fit(self, X, y=None):\n",
    "        return self\n",
    "\n",
    "    def transform(self, X):\n",
    "        sift_features = []\n",
    "        for img in X:\n",
    "            # SIFT takes in uint8 format images\n",
    "            img_uint8 = (img * 255).astype(np.uint8)\n",
    "            kp, des = self.sift.detectAndCompute(img_uint8, None)\n",
    "            # features found\n",
    "            if des is not None:\n",
    "                des_flattened = des.flatten()\n",
    "                # descriptors exceed max features truncate\n",
    "                if len(des_flattened) > self.max_features:\n",
    "                    des_flattened = des_flattened[:self.max_features]\n",
    "                # descriptors shorter pad to max features\n",
    "                else: \n",
    "                    des_flattened = np.pad(des_flattened, (0, self.max_features - len(des_flattened)), 'constant')\n",
    "            # no features found\n",
    "            else:\n",
    "                des_flattened = np.zeros(self.max_features)\n",
    "            sift_features.append(des_flattened)\n",
    "        return np.array(sift_features)"
   ],
   "metadata": {
    "collapsed": false,
    "ExecuteTime": {
     "end_time": "2024-10-23T09:48:51.616978Z",
     "start_time": "2024-10-23T09:48:51.604495Z"
    }
   },
   "id": "3013b37f1578a404"
  },
  {
   "cell_type": "code",
   "execution_count": 5,
   "outputs": [],
   "source": [
    "class FourierFeatureExtractor(BaseEstimator, TransformerMixin):\n",
    "    def fit(self, X, y=None):\n",
    "        return self\n",
    "\n",
    "    def transform(self, X):\n",
    "        fft_features = []\n",
    "        for img in X:\n",
    "            # fft\n",
    "            f_transform = np.fft.fft2(img)\n",
    "            # shift zero frequency to center\n",
    "            f_shift = np.fft.fftshift(f_transform)\n",
    "            magnitude_spectrum = 20 * np.log(np.abs(f_shift))\n",
    "            fft_features.append(magnitude_spectrum.flatten())\n",
    "        return np.array(fft_features)"
   ],
   "metadata": {
    "collapsed": false,
    "ExecuteTime": {
     "end_time": "2024-10-23T09:49:01.433945Z",
     "start_time": "2024-10-23T09:49:01.417544Z"
    }
   },
   "id": "3c67c9ffb1f98806"
  },
  {
   "cell_type": "code",
   "execution_count": 6,
   "outputs": [],
   "source": [
    "class SVDReducer(BaseEstimator, TransformerMixin):\n",
    "    def __init__(self, n_components=200):\n",
    "        self.n_components = n_components\n",
    "        self.svd = None\n",
    "\n",
    "    def fit(self, X, y=None):\n",
    "        n_components = min(self.n_components, X.shape[1]) # debug for actual reduction\n",
    "        self.svd = TruncatedSVD(n_components=n_components)\n",
    "        self.svd.fit(X)\n",
    "        return self\n",
    "\n",
    "    def transform(self, X):\n",
    "        return self.svd.transform(X)"
   ],
   "metadata": {
    "collapsed": false,
    "ExecuteTime": {
     "end_time": "2024-10-23T09:49:48.157787Z",
     "start_time": "2024-10-23T09:49:48.149913Z"
    }
   },
   "id": "15dfa85d6cc58c3c"
  },
  {
   "cell_type": "code",
   "execution_count": 139,
   "outputs": [],
   "source": [
    "class ClusterEvaluator(BaseEstimator):\n",
    "    def __init__(self, metric='euclidean'):\n",
    "        self.metric = metric\n",
    "        self.silhouette_avg = None\n",
    "        \n",
    "    def fit(self, X, y=None):\n",
    "        return self\n",
    "    \n",
    "    def evaluate(self, X, labels):\n",
    "        # excluding cases with only noise\n",
    "        if len(set(labels)) > 1 and len(set(labels)) < len(X):\n",
    "            self.silhouette_avg = silhouette_score(X, labels, metric=self.metric)\n",
    "        else:\n",
    "            self.silhouette_avg = -1  # Invalid or trivial clustering\n",
    "\n",
    "        return self.silhouette_avg\n",
    "    \n",
    "    def get_silhouette_score(self):\n",
    "        return self.silhouette_avg\n",
    "    \n",
    "    def set_params(self, **params):\n",
    "        if 'metric' in params:\n",
    "            self.metric = params['metric']\n",
    "        return self\n",
    "    \n",
    "    def get_params(self, deep=True):\n",
    "        return {'metric': self.metric}"
   ],
   "metadata": {
    "collapsed": false,
    "ExecuteTime": {
     "end_time": "2024-10-23T10:39:06.243013Z",
     "start_time": "2024-10-23T10:39:06.236132Z"
    }
   },
   "id": "c4ff20f2e70e882"
  },
  {
   "cell_type": "code",
   "execution_count": 7,
   "outputs": [],
   "source": [
    "# set variable\n",
    "data_directory = 'data/BigCats'\n",
    "RANDOM_SEED = 192\n",
    "# kNN neighbors\n",
    "number_neighbor = 5\n",
    "# SVD components\n",
    "n_components = 200"
   ],
   "metadata": {
    "collapsed": false,
    "ExecuteTime": {
     "end_time": "2024-10-23T09:51:16.978946Z",
     "start_time": "2024-10-23T09:51:16.962936Z"
    }
   },
   "id": "ff28718600ff1068"
  },
  {
   "cell_type": "code",
   "execution_count": 141,
   "outputs": [],
   "source": [
    "# data load and split\n",
    "image_loader = ImageLoader(data_directory=data_directory)\n",
    "images, labels = image_loader.fit_transform(None)\n",
    "evaluator = ClusterEvaluator(metric='euclidean')"
   ],
   "metadata": {
    "collapsed": false,
    "ExecuteTime": {
     "end_time": "2024-10-23T10:39:30.593173Z",
     "start_time": "2024-10-23T10:39:30.293162Z"
    }
   },
   "id": "243081426531ee0a"
  },
  {
   "cell_type": "code",
   "execution_count": 136,
   "outputs": [],
   "source": [
    "sift_cluster_pipeline = Pipeline([\n",
    "    ('transform', ImageTransform()), \n",
    "    ('sift', SIFTFeatureExtractor()),\n",
    "    ('svd', SVDReducer(n_components=5)),\n",
    "    ('scaler', StandardScaler()),\n",
    "    ('cluster', DBSCAN(eps=1.7, min_samples=5))\n",
    "])\n",
    "fourier_cluster_pipeline = Pipeline([\n",
    "    ('transform', ImageTransform()),\n",
    "    ('fourier', FourierFeatureExtractor()),\n",
    "    ('svd', SVDReducer(n_components=5)),\n",
    "    ('scaler', StandardScaler()),\n",
    "    ('cluster', DBSCAN(eps=1.7, min_samples=5))\n",
    "])"
   ],
   "metadata": {
    "collapsed": false,
    "ExecuteTime": {
     "end_time": "2024-10-23T10:26:18.810523Z",
     "start_time": "2024-10-23T10:26:18.804095Z"
    }
   },
   "id": "c2834160e6ff1b2c"
  },
  {
   "cell_type": "code",
   "execution_count": 217,
   "outputs": [],
   "source": [
    "param_grid_sift_cluster = {\n",
    "    'transform__image_size': [(64, 64), (68, 68)],\n",
    "    'sift__max_features': [100, 120, 130],\n",
    "    'svd__n_components': [7, 10, 12],\n",
    "    'cluster__eps': [1.7, 1.8, 1.9],\n",
    "    'cluster__min_samples': [3, 5, 6]\n",
    "}\n",
    "\n",
    "param_grid_fourier_cluster = {\n",
    "    'transform__image_size': [(128, 128)],\n",
    "    'svd__n_components': [5, 7, 10],\n",
    "    'cluster__eps': [1.7, 1.8],\n",
    "    'cluster__min_samples': [3, 5]\n",
    "}"
   ],
   "metadata": {
    "collapsed": false,
    "ExecuteTime": {
     "end_time": "2024-10-23T15:38:00.903995Z",
     "start_time": "2024-10-23T15:38:00.890400Z"
    }
   },
   "id": "13ee8dc0527c77fa"
  },
  {
   "cell_type": "code",
   "execution_count": 218,
   "outputs": [],
   "source": [
    "def silhouette_scorer(estimator, X):\n",
    "    dbscan_step = sift_cluster_pipeline.named_steps['cluster']\n",
    "    cluster_labels = dbscan_step.labels_\n",
    "    \n",
    "    if 'sift' in estimator.named_steps:\n",
    "        # SIFT-based pipeline transformations\n",
    "        X_transformed = estimator.named_steps['transform'].transform(X)\n",
    "        X_sift = estimator.named_steps['sift'].transform(X_transformed)\n",
    "        X_svd = estimator.named_steps['svd'].transform(X_sift)\n",
    "        X_scaled = estimator.named_steps['scaler'].transform(X_svd)\n",
    "    \n",
    "    elif 'fourier' in estimator.named_steps:\n",
    "        # Fourier-based pipeline transformations\n",
    "        X_transformed = estimator.named_steps['transform'].transform(X)\n",
    "        X_fourier = estimator.named_steps['fourier'].transform(X_transformed)\n",
    "        X_svd = estimator.named_steps['svd'].transform(X_fourier)\n",
    "        X_scaled = estimator.named_steps['scaler'].transform(X_svd)\n",
    "    \n",
    "    else:\n",
    "        raise ValueError(\"Pipeline must contain either 'sift' or 'fourier' step.\")\n",
    "    \n",
    "    \n",
    "    # Check if lengths match\n",
    "    if len(cluster_labels) != len(X_scaled):\n",
    "        return np.nan\n",
    "    \n",
    "    # Calculate silhouette score\n",
    "    score = evaluator.evaluate(X_scaled, cluster_labels)\n",
    "    return score"
   ],
   "metadata": {
    "collapsed": false,
    "ExecuteTime": {
     "end_time": "2024-10-23T15:38:04.341499Z",
     "start_time": "2024-10-23T15:38:04.332634Z"
    }
   },
   "id": "f4a085ac6cef8ed1"
  },
  {
   "cell_type": "code",
   "execution_count": 219,
   "outputs": [],
   "source": [
    "def fit_with_grid(pipeline, param_grid, images): \n",
    "    best = {}\n",
    "    best_score = -np.inf  # Initialize best score\n",
    "    \n",
    "    print(f\"\\nRunning Grid Search:\")\n",
    "    \n",
    "    for params in ParameterGrid(param_grid):\n",
    "        # Set parameters for the pipeline\n",
    "        pipeline.set_params(**params)\n",
    "        \n",
    "        # Fit the pipeline to the full dataset (no cross-validation)\n",
    "        pipeline.fit(images)\n",
    "        \n",
    "        # Get the silhouette score\n",
    "        score = silhouette_scorer(pipeline, images)\n",
    "        \n",
    "        # Update best model if current score is better\n",
    "        if score > best_score:\n",
    "            best_score = score\n",
    "            best_model = pipeline\n",
    "            best_image_size = pipeline.named_steps['transform'].image_size\n",
    "    \n",
    "    # Print best model details\n",
    "    print(f\"Best Model: {best_model}\")\n",
    "    print(f\"Best silhouette score: {best_score}\")\n",
    "    print(f\"Best image size: {best_image_size}\")\n",
    "    \n",
    "    # Store and return the best results\n",
    "    best = {\n",
    "        'best_image_size': best_image_size, \n",
    "        'best_model': best_model,\n",
    "        'best_silhouette': best_score, \n",
    "    }\n",
    "    return best"
   ],
   "metadata": {
    "collapsed": false,
    "ExecuteTime": {
     "end_time": "2024-10-23T15:38:05.142726Z",
     "start_time": "2024-10-23T15:38:05.134748Z"
    }
   },
   "id": "ecf1b67065f2b490"
  },
  {
   "cell_type": "code",
   "execution_count": 220,
   "outputs": [
    {
     "name": "stdout",
     "output_type": "stream",
     "text": [
      "\n",
      "Fitting SIFT + DBSCAN: \n",
      "\n",
      "Running Grid Search:\n",
      "Best Model: Pipeline(steps=[('transform', ImageTransform(image_size=(68, 68))),\n",
      "                ('sift', SIFTFeatureExtractor(max_features=130)),\n",
      "                ('svd', SVDReducer(n_components=12)),\n",
      "                ('scaler', StandardScaler()),\n",
      "                ('cluster', DBSCAN(eps=1.9, min_samples=6))])\n",
      "Best silhouette score: 0.17252615094184875\n",
      "Best image size: (68, 68)\n",
      "\n",
      "Fitting Fourier + DBSCAN\n",
      "\n",
      "Running Grid Search:\n",
      "Best Model: Pipeline(steps=[('transform', ImageTransform()),\n",
      "                ('fourier', FourierFeatureExtractor()),\n",
      "                ('svd', SVDReducer(n_components=10)),\n",
      "                ('scaler', StandardScaler()), ('cluster', DBSCAN(eps=1.8))])\n",
      "Best silhouette score: -1\n",
      "Best image size: (128, 128)\n"
     ]
    }
   ],
   "source": [
    "print(\"\\nFitting SIFT + DBSCAN: \")\n",
    "best_sift_dbscan = fit_with_grid(sift_cluster_pipeline, param_grid_sift_cluster, images)\n",
    "\n",
    "print(\"\\nFitting Fourier + DBSCAN\")\n",
    "best_fourier_dbscan = fit_with_grid(fourier_cluster_pipeline, param_grid_fourier_cluster, images)"
   ],
   "metadata": {
    "collapsed": false,
    "ExecuteTime": {
     "end_time": "2024-10-23T15:39:55.080041Z",
     "start_time": "2024-10-23T15:38:06.030472Z"
    }
   },
   "id": "c675bfc0bf21d671"
  },
  {
   "cell_type": "code",
   "execution_count": 150,
   "outputs": [],
   "source": [
    "dbscan_step = sift_cluster_pipeline.named_steps['cluster']\n",
    "cluster_labels = dbscan_step.labels_\n"
   ],
   "metadata": {
    "collapsed": false,
    "ExecuteTime": {
     "end_time": "2024-10-23T14:24:41.136626Z",
     "start_time": "2024-10-23T14:24:41.133185Z"
    }
   },
   "id": "ca06e9768c676d2d"
  },
  {
   "cell_type": "code",
   "execution_count": 155,
   "outputs": [
    {
     "name": "stdout",
     "output_type": "stream",
     "text": [
      "166\n",
      "166\n"
     ]
    }
   ],
   "source": [
    "print(len(cluster_labels))\n",
    "print(len(images))"
   ],
   "metadata": {
    "collapsed": false,
    "ExecuteTime": {
     "end_time": "2024-10-23T14:27:08.009645Z",
     "start_time": "2024-10-23T14:27:08.000801Z"
    }
   },
   "id": "ab77a93eb0dd531b"
  },
  {
   "cell_type": "code",
   "execution_count": 152,
   "outputs": [
    {
     "name": "stdout",
     "output_type": "stream",
     "text": [
      "Number of clusters: 1\n",
      "Number of noise points: 5\n"
     ]
    }
   ],
   "source": [
    "# Number of clusters and noise points\n",
    "n_clusters = len(set(cluster_labels)) - (1 if -1 in cluster_labels else 0)\n",
    "n_noise = list(cluster_labels).count(-1)\n",
    "print(f'Number of clusters: {n_clusters}')\n",
    "print(f'Number of noise points: {n_noise}')"
   ],
   "metadata": {
    "collapsed": false,
    "ExecuteTime": {
     "end_time": "2024-10-23T14:24:43.456457Z",
     "start_time": "2024-10-23T14:24:43.447858Z"
    }
   },
   "id": "744e3a44c381f8d"
  },
  {
   "cell_type": "code",
   "execution_count": 153,
   "outputs": [
    {
     "data": {
      "text/plain": "<Figure size 800x600 with 1 Axes>",
      "image/png": "[encoded data removed]"
     },
     "metadata": {},
     "output_type": "display_data"
    }
   ],
   "source": [
    "import numpy as np\n",
    "import matplotlib.pyplot as plt\n",
    "from sklearn.decomposition import PCA\n",
    "\n",
    "# Apply PCA to reduce dimensionality to 2D for visualization\n",
    "# You should apply PCA on the output of the pipeline before the clustering step\n",
    "X_transformed = sift_cluster_pipeline.named_steps['scaler'].transform(\n",
    "    sift_cluster_pipeline.named_steps['svd'].transform(\n",
    "        sift_cluster_pipeline.named_steps['sift'].transform(\n",
    "            sift_cluster_pipeline.named_steps['transform'].transform(images)\n",
    "        )\n",
    "    )\n",
    ")\n",
    "\n",
    "pca = PCA(n_components=2)\n",
    "X_reduced = pca.fit_transform(X_transformed)\n",
    "\n",
    "# Plot the clusters\n",
    "plt.figure(figsize=(8, 6))\n",
    "unique_labels = set(cluster_labels)\n",
    "\n",
    "# Loop over all clusters and assign colors\n",
    "for label in unique_labels:\n",
    "    if label == -1:\n",
    "        # Noise (label -1) will be plotted as black\n",
    "        color = 'k'\n",
    "        label_name = 'Noise'\n",
    "    else:\n",
    "        # Assign a unique color to each cluster\n",
    "        color = plt.cm.Spectral(float(label) / len(unique_labels))\n",
    "        label_name = f'Cluster {label}'\n",
    "    \n",
    "    # Filter points for current cluster\n",
    "    class_member_mask = (cluster_labels == label)\n",
    "    \n",
    "    # Plot the cluster points\n",
    "    plt.scatter(X_reduced[class_member_mask, 0], X_reduced[class_member_mask, 1], \n",
    "                color=color, label=label_name)\n",
    "\n",
    "plt.title('DBSCAN Clustering of SIFT Features (2D PCA Projection)')\n",
    "plt.xlabel('PCA 1')\n",
    "plt.ylabel('PCA 2')\n",
    "plt.legend(loc='best')\n",
    "plt.show()"
   ],
   "metadata": {
    "collapsed": false,
    "ExecuteTime": {
     "end_time": "2024-10-23T14:24:49.245204Z",
     "start_time": "2024-10-23T14:24:48.549002Z"
    }
   },
   "id": "8d406d0d149a0764"
  },
  {
   "cell_type": "code",
   "execution_count": 109,
   "outputs": [],
   "source": [],
   "metadata": {
    "collapsed": false,
    "ExecuteTime": {
     "end_time": "2024-10-23T10:17:21.771467Z",
     "start_time": "2024-10-23T10:17:21.751651Z"
    }
   },
   "id": "47a35b0c634f4d5b"
  },
  {
   "cell_type": "code",
   "execution_count": null,
   "outputs": [],
   "source": [],
   "metadata": {
    "collapsed": false
   },
   "id": "c09d9e1352b011fc"
  }
 ],
 "metadata": {
  "kernelspec": {
   "display_name": "Python 3",
   "language": "python",
   "name": "python3"
  },
  "language_info": {
   "codemirror_mode": {
    "name": "ipython",
    "version": 2
   },
   "file_extension": ".py",
   "mimetype": "text/x-python",
   "name": "python",
   "nbconvert_exporter": "python",
   "pygments_lexer": "ipython2",
   "version": "2.7.6"
  }
 },
 "nbformat": 4,
 "nbformat_minor": 5
}
