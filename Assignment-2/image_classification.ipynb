{
 "cells": [
  {
   "cell_type": "code",
   "execution_count": 129,
   "id": "initial_id",
   "metadata": {
    "collapsed": true,
    "ExecuteTime": {
     "end_time": "2024-10-22T13:15:14.932455Z",
     "start_time": "2024-10-22T13:15:14.925055Z"
    }
   },
   "outputs": [],
   "source": [
    "import os\n",
    "import tensorflow as tf\n",
    "import cv2\n",
    "import numpy as np\n",
    "from sklearn.base import BaseEstimator, TransformerMixin\n",
    "from sklearn.pipeline import Pipeline\n",
    "from sklearn.decomposition import TruncatedSVD\n",
    "from sklearn.tree import DecisionTreeClassifier\n",
    "from sklearn.naive_bayes import GaussianNB\n",
    "from sklearn.neighbors import KNeighborsClassifier\n",
    "from sklearn.cluster import DBSCAN\n",
    "from sklearn.model_selection import train_test_split, GridSearchCV, cross_val_score, cross_validate\n",
    "from sklearn.metrics import accuracy_score, f1_score, confusion_matrix, silhouette_score, make_scorer"
   ]
  },
  {
   "cell_type": "markdown",
   "source": [
    "SVD for sparse data\n",
    "SVD may be better for image data for its versatility and noise reduction"
   ],
   "metadata": {
    "collapsed": false
   },
   "id": "e067224aa1691da6"
  },
  {
   "cell_type": "code",
   "execution_count": 201,
   "outputs": [],
   "source": [
    "class ImageLoader(BaseEstimator, TransformerMixin):\n",
    "    def __init__(self, data_directory, image_size=(256, 256)):\n",
    "        self.data_directory = data_directory\n",
    "        self.image_size = image_size\n",
    "        \n",
    "    def fit(self, X=None, y=None):\n",
    "        return self\n",
    "\n",
    "    def transform(self, X=None, y=None):\n",
    "        images = []\n",
    "        labels = []\n",
    "        # get image labels from the folder names\n",
    "        class_labels = os.listdir(self.data_directory)\n",
    "        class_labels.sort()\n",
    "        # loop through the directory\n",
    "        for label_idx, class_name in enumerate(class_labels):\n",
    "            class_dir = os.path.join(self.data_directory, class_name)\n",
    "            # wrong directory\n",
    "            if not os.path.isdir(class_dir): \n",
    "                continue\n",
    "            # loop through image files\n",
    "            for file_name in os.listdir(class_dir):\n",
    "                file_path = os.path.join(class_dir, file_name)\n",
    "                # check for valid image to load\n",
    "                if file_name.endswith(('.jpg', '.jpeg', '.png')):\n",
    "                    img = cv2.imread(file_path)\n",
    "                    img_resized = cv2.resize(img, self.image_size)\n",
    "                    if img is not None:\n",
    "                        images.append(img_resized)  # Store the raw image\n",
    "                        labels.append(label_idx)  # Store the label as index\n",
    "\n",
    "        images = np.array(images)\n",
    "        labels = np.array(labels)\n",
    "        return images, labels"
   ],
   "metadata": {
    "collapsed": false,
    "ExecuteTime": {
     "end_time": "2024-10-22T15:24:29.925171Z",
     "start_time": "2024-10-22T15:24:29.911623Z"
    }
   },
   "id": "f95b95d897926eae"
  },
  {
   "cell_type": "code",
   "execution_count": 169,
   "outputs": [],
   "source": [
    "class ImageTransform(BaseEstimator, TransformerMixin):\n",
    "    def __init__(self, image_size=(128, 128), to_gray=True, normalize=True):\n",
    "        self.image_size = image_size\n",
    "        self.to_gray = to_gray\n",
    "        self.normalize = normalize\n",
    "\n",
    "    def set_params(self, **params):\n",
    "        if 'image_size' in params:\n",
    "            self.image_size = params['image_size']\n",
    "        if 'to_gray' in params:\n",
    "            self.to_gray = params['to_gray']\n",
    "        if 'normalize' in params:\n",
    "            self.normalize = params['normalize']\n",
    "        return self\n",
    "\n",
    "    def fit(self, X=None, y=None):\n",
    "        return self\n",
    "\n",
    "    def transform(self, X):\n",
    "        transformed_images = []\n",
    "        # preprocess\n",
    "        for img in X:\n",
    "            # resize\n",
    "            if self.image_size:\n",
    "                img = cv2.resize(img, self.image_size)\n",
    "            # grayscale\n",
    "            if self.to_gray:\n",
    "                img = cv2.cvtColor(img, cv2.COLOR_BGR2GRAY)\n",
    "            # normalize\n",
    "            if self.normalize:\n",
    "                img = img / 255.0  # Normalize to [0,1]\n",
    "            transformed_images.append(img)\n",
    "        \n",
    "        return np.array(transformed_images)"
   ],
   "metadata": {
    "collapsed": false,
    "ExecuteTime": {
     "end_time": "2024-10-22T14:55:12.303748Z",
     "start_time": "2024-10-22T14:55:12.295913Z"
    }
   },
   "id": "7cba59d7e4373a35"
  },
  {
   "cell_type": "code",
   "execution_count": 170,
   "outputs": [],
   "source": [
    "class SIFTFeatureExtractor(BaseEstimator, TransformerMixin):\n",
    "    def __init__(self, max_features=500):\n",
    "        # use opencv SIFT\n",
    "        self.sift = cv2.SIFT_create()\n",
    "        self.max_features = max_features\n",
    "\n",
    "    def fit(self, X, y=None):\n",
    "        return self\n",
    "\n",
    "    def transform(self, X):\n",
    "        sift_features = []\n",
    "        for img in X:\n",
    "            # SIFT takes in uint8 format images\n",
    "            img_uint8 = (img * 255).astype(np.uint8)\n",
    "            kp, des = self.sift.detectAndCompute(img_uint8, None)\n",
    "            # features found\n",
    "            if des is not None:\n",
    "                des_flattened = des.flatten()\n",
    "                # descriptors exceed max features truncate\n",
    "                if len(des_flattened) > self.max_features:\n",
    "                    des_flattened = des_flattened[:self.max_features]\n",
    "                # descriptors shorter pad to max features\n",
    "                else: \n",
    "                    des_flattened = np.pad(des_flattened, (0, self.max_features - len(des_flattened)), 'constant')\n",
    "            # no features found\n",
    "            else:\n",
    "                des_flattened = np.zeros(self.max_features)\n",
    "            sift_features.append(des_flattened)\n",
    "        return np.array(sift_features)"
   ],
   "metadata": {
    "collapsed": false,
    "ExecuteTime": {
     "end_time": "2024-10-22T14:55:24.186816Z",
     "start_time": "2024-10-22T14:55:24.179993Z"
    }
   },
   "id": "b7b9a982ced01152"
  },
  {
   "cell_type": "code",
   "execution_count": 171,
   "outputs": [],
   "source": [
    "class FourierFeatureExtractor(BaseEstimator, TransformerMixin):\n",
    "    def fit(self, X, y=None):\n",
    "        return self\n",
    "\n",
    "    def transform(self, X):\n",
    "        fft_features = []\n",
    "        for img in X:\n",
    "            # fft\n",
    "            f_transform = np.fft.fft2(img)\n",
    "            # shift zero frequency to center\n",
    "            f_shift = np.fft.fftshift(f_transform)\n",
    "            magnitude_spectrum = 20 * np.log(np.abs(f_shift))\n",
    "            fft_features.append(magnitude_spectrum.flatten())\n",
    "        return np.array(fft_features)"
   ],
   "metadata": {
    "collapsed": false,
    "ExecuteTime": {
     "end_time": "2024-10-22T14:55:24.937755Z",
     "start_time": "2024-10-22T14:55:24.931469Z"
    }
   },
   "id": "1485633cfece9920"
  },
  {
   "cell_type": "code",
   "execution_count": 172,
   "outputs": [],
   "source": [
    "class SVDReducer(BaseEstimator, TransformerMixin):\n",
    "    def __init__(self, n_components=100):\n",
    "        self.n_components = n_components\n",
    "        self.svd = None\n",
    "\n",
    "    def fit(self, X, y=None):\n",
    "        n_components = min(self.n_components, X.shape[1]) # debug for actual reduction\n",
    "        self.svd = TruncatedSVD(n_components=n_components)\n",
    "        self.svd.fit(X)\n",
    "        return self\n",
    "\n",
    "    def transform(self, X):\n",
    "        return self.svd.transform(X)"
   ],
   "metadata": {
    "collapsed": false,
    "ExecuteTime": {
     "end_time": "2024-10-22T14:55:25.422926Z",
     "start_time": "2024-10-22T14:55:25.417662Z"
    }
   },
   "id": "4bd13bf3b52e510e"
  },
  {
   "cell_type": "code",
   "execution_count": 202,
   "outputs": [],
   "source": [
    "# set variable\n",
    "data_directory = 'data/BigCats'\n",
    "RANDOM_SEED = 192\n",
    "# kNN neighbors\n",
    "number_neighbor = 5\n",
    "# SVD components\n",
    "n_components = 200\n",
    "image_side = 200\n",
    "k_fold = 5"
   ],
   "metadata": {
    "collapsed": false,
    "ExecuteTime": {
     "end_time": "2024-10-22T15:24:35.807203Z",
     "start_time": "2024-10-22T15:24:35.803899Z"
    }
   },
   "id": "66b8add9eaec198c"
  },
  {
   "cell_type": "code",
   "execution_count": 203,
   "outputs": [],
   "source": [
    "decision_tree = DecisionTreeClassifier(random_state=RANDOM_SEED)\n",
    "naive_bayes = GaussianNB()\n",
    "knn = KNeighborsClassifier(n_neighbors=number_neighbor)\n",
    "dbscan = DBSCAN(eps=0.5, min_samples=5)"
   ],
   "metadata": {
    "collapsed": false,
    "ExecuteTime": {
     "end_time": "2024-10-22T15:24:44.172226Z",
     "start_time": "2024-10-22T15:24:44.168683Z"
    }
   },
   "id": "5d5027eec53669ca"
  },
  {
   "cell_type": "code",
   "execution_count": 204,
   "outputs": [],
   "source": [
    "# define the pipelines for different classification methods\n",
    "sift_decision_tree_pipeline = Pipeline([\n",
    "    ('transform', ImageTransform()), \n",
    "    ('sift', SIFTFeatureExtractor()),\n",
    "    ('svd', SVDReducer(n_components=n_components)),\n",
    "    ('classifier', DecisionTreeClassifier(random_state=RANDOM_SEED))\n",
    "])\n",
    "sift_naive_bayes_pipeline = Pipeline([\n",
    "    ('transform', ImageTransform()), \n",
    "    ('sift', SIFTFeatureExtractor()),\n",
    "    ('svd', SVDReducer(n_components=n_components)),\n",
    "    ('classifier', GaussianNB())\n",
    "])\n",
    "sift_knn_pipeline = Pipeline([\n",
    "    ('transform', ImageTransform()), \n",
    "    ('sift', SIFTFeatureExtractor()),\n",
    "    ('svd', SVDReducer(n_components=n_components)),\n",
    "    ('classifier', KNeighborsClassifier(n_neighbors=number_neighbor))\n",
    "])\n",
    "fourier_decision_tree_pipeline = Pipeline([\n",
    "    ('transform', ImageTransform()), \n",
    "    ('fourier', FourierFeatureExtractor()),\n",
    "    ('svd', SVDReducer(n_components=n_components)),\n",
    "    ('classifier', DecisionTreeClassifier(random_state=RANDOM_SEED))\n",
    "])\n",
    "\n",
    "fourier_naive_bayes_pipeline = Pipeline([\n",
    "    ('transform', ImageTransform()), \n",
    "    ('fourier', FourierFeatureExtractor()),\n",
    "    ('svd', SVDReducer(n_components=n_components)),\n",
    "    ('classifier', GaussianNB())\n",
    "])\n",
    "\n",
    "fourier_knn_pipeline = Pipeline([\n",
    "    ('transform', ImageTransform()), \n",
    "    ('fourier', FourierFeatureExtractor()),\n",
    "    ('svd', SVDReducer(n_components=n_components)),\n",
    "    ('classifier', KNeighborsClassifier(n_neighbors=number_neighbor))\n",
    "])\n"
   ],
   "metadata": {
    "collapsed": false,
    "ExecuteTime": {
     "end_time": "2024-10-22T15:24:48.184613Z",
     "start_time": "2024-10-22T15:24:48.176582Z"
    }
   },
   "id": "d2e07e6ccac01617"
  },
  {
   "cell_type": "code",
   "execution_count": 205,
   "outputs": [],
   "source": [
    "# data load and split\n",
    "image_loader = ImageLoader(data_directory=data_directory)\n",
    "images, labels = image_loader.fit_transform(None)\n",
    "\n",
    "X_train, X_test, y_train, y_test = train_test_split(images, labels, test_size=0.2, random_state=RANDOM_SEED)"
   ],
   "metadata": {
    "collapsed": false,
    "ExecuteTime": {
     "end_time": "2024-10-22T15:24:49.444989Z",
     "start_time": "2024-10-22T15:24:49.175346Z"
    }
   },
   "id": "73770780f4459a78"
  },
  {
   "cell_type": "code",
   "execution_count": 206,
   "outputs": [
    {
     "name": "stdout",
     "output_type": "stream",
     "text": [
      "Training Data Shape: (132, 256, 256, 3)\n",
      "Test Data Shape: (34, 256, 256, 3)\n"
     ]
    }
   ],
   "source": [
    "print(f\"Training Data Shape: {X_train.shape}\")\n",
    "print(f\"Test Data Shape: {X_test.shape}\")"
   ],
   "metadata": {
    "collapsed": false,
    "ExecuteTime": {
     "end_time": "2024-10-22T15:24:50.015391Z",
     "start_time": "2024-10-22T15:24:50.013024Z"
    }
   },
   "id": "cb30f09f9a849c81"
  },
  {
   "cell_type": "code",
   "execution_count": 207,
   "outputs": [],
   "source": [
    "# grid parameters sift\n",
    "param_grid_sift_decision_tree = {\n",
    "    'transform__image_size': [(64, 64), (128, 128)],  # Vary image augmentation size\n",
    "    'sift__max_features': [200, 300, 500],  # Varying max features for SIFT\n",
    "    'svd__n_components': [70, 140, 200],  # Varying SVD components\n",
    "    'classifier__max_depth': [3, 5, 7, None]  # Varying Decision Tree depth\n",
    "}\n",
    "\n",
    "param_grid_sift_knn = {\n",
    "    'transform__image_size': [(64, 64), (128, 128)],  # Vary image augmentation size\n",
    "    'sift__max_features': [200, 300, 500],  # Varying max features for SIFT\n",
    "    'svd__n_components': [70, 140, 200],  # Varying SVD components\n",
    "    'classifier__n_neighbors': [3, 5, 7]  # Varying k-neighbors for KNN\n",
    "}\n",
    "\n",
    "param_grid_naive_sift_bayes = {\n",
    "    'transform__image_size': [(64, 64), (128, 128)],  # Vary image augmentation size\n",
    "    'sift__max_features': [200, 300, 500],  # Varying max features for SIFT\n",
    "    'svd__n_components': [100, 200, 300]  # Varying SVD components (no params for Naive Bayes)\n",
    "}\n",
    "\n",
    "# grid parameters Fourier\n",
    "param_grid_fourier_decision_tree = {\n",
    "    'transform__image_size': [(64, 64), (128, 128)],  # Vary image augmentation size\n",
    "    'svd__n_components': [70, 140, 200],  # Varying SVD components\n",
    "    'classifier__max_depth': [3, 5, 7, None]  # Varying Decision Tree depth\n",
    "}\n",
    "\n",
    "param_grid_fourier_knn = {\n",
    "    'transform__image_size': [(64, 64), (128, 128)],  # Vary image augmentation size\n",
    "    'svd__n_components': [70, 140, 200],  # Varying SVD components\n",
    "    'classifier__n_neighbors': [3, 5, 7]  # Varying k-neighbors for KNN\n",
    "}\n",
    "\n",
    "param_grid_fourier_naive_bayes = {\n",
    "    'transform__image_size': [(64, 64), (128, 128)],  # Vary image augmentation size\n",
    "    'svd__n_components': [70, 140, 200] \n",
    "}\n"
   ],
   "metadata": {
    "collapsed": false,
    "ExecuteTime": {
     "end_time": "2024-10-22T15:24:59.998866Z",
     "start_time": "2024-10-22T15:24:59.987455Z"
    }
   },
   "id": "b22975911e522f3d"
  },
  {
   "cell_type": "code",
   "execution_count": 212,
   "outputs": [],
   "source": [
    "# to run grid search\n",
    "def fit_with_grid(pipeline, param_grid, X_train, y_train, X_test, y_test, cv_values=[5,7]):\n",
    "    best_models = {}\n",
    "    for cv in cv_values:\n",
    "        print(f\"\\nRunning Grid Search with {cv}-fold cross-validation:\")\n",
    "        grid_search = GridSearchCV(pipeline, param_grid, cv=cv, scoring='accuracy')\n",
    "        grid_search.fit(X_train, y_train)\n",
    "        \n",
    "        best_model = grid_search.best_estimator_\n",
    "        best_score = grid_search.best_score_\n",
    "        # print best model and cross validation accuracy\n",
    "        print(f\"Best Model with {cv}-fold CV: {best_model}\")\n",
    "        print(f\"Best Cross-Validation Accuracy: {best_score:.4f}\")\n",
    "        # test the best model with appropriate test set\n",
    "        # best image size\n",
    "        best_image_size = best_model.named_steps['transform'].image_size\n",
    "        print(f\"Best image size: {best_image_size}\")\n",
    "        # test\n",
    "        y_pred = best_model.predict(X_test)\n",
    "        test_accuracy = accuracy_score(y_test, y_pred)\n",
    "        test_f1 = f1_score(y_test, y_pred, average='weighted')  # weighted average for class imbalance\n",
    "        print(f\"Test Accuracy: {test_accuracy:.4f}\")\n",
    "        print(f\"Test F1 Score: {test_f1:.4f}\")\n",
    "        # store the best model for each kfold\n",
    "        best_models[cv] = {\n",
    "            'best_image_size': best_image_size, \n",
    "            'best_model': best_model,\n",
    "            'best_validation_score': best_score, \n",
    "            'test accuracy': test_accuracy, \n",
    "            'test f1 score': test_f1\n",
    "        }\n",
    "    return best_models\n"
   ],
   "metadata": {
    "collapsed": false,
    "ExecuteTime": {
     "end_time": "2024-10-22T15:35:38.150344Z",
     "start_time": "2024-10-22T15:35:38.142514Z"
    }
   },
   "id": "263609ac0549f789"
  },
  {
   "cell_type": "code",
   "execution_count": 213,
   "outputs": [
    {
     "name": "stdout",
     "output_type": "stream",
     "text": [
      "\n",
      "Fitting SIFT + Decision Tree: \n",
      "\n",
      "Running Grid Search with 5-fold cross-validation:\n",
      "Best Model with 5-fold CV: Pipeline(steps=[('transform', ImageTransform()),\n",
      "                ('sift', SIFTFeatureExtractor(max_features=200)),\n",
      "                ('svd', SVDReducer(n_components=70)),\n",
      "                ('classifier', DecisionTreeClassifier(random_state=192))])\n",
      "Best Cross-Validation Accuracy: 0.3330\n",
      "Best image size: (128, 128)\n",
      "Test Accuracy: 0.2059\n",
      "Test F1 Score: 0.1986\n",
      "\n",
      "Running Grid Search with 7-fold cross-validation:\n",
      "Best Model with 7-fold CV: Pipeline(steps=[('transform', ImageTransform()),\n",
      "                ('sift', SIFTFeatureExtractor()),\n",
      "                ('svd', SVDReducer(n_components=200)),\n",
      "                ('classifier',\n",
      "                 DecisionTreeClassifier(max_depth=7, random_state=192))])\n",
      "Best Cross-Validation Accuracy: 0.3045\n",
      "Best image size: (128, 128)\n",
      "Test Accuracy: 0.2059\n",
      "Test F1 Score: 0.1875\n",
      "\n",
      "Fitting SIFT + Naive Bayes: \n",
      "\n",
      "Running Grid Search with 5-fold cross-validation:\n",
      "Best Model with 5-fold CV: Pipeline(steps=[('transform', ImageTransform()),\n",
      "                ('sift', SIFTFeatureExtractor(max_features=200)),\n",
      "                ('svd', SVDReducer()), ('classifier', GaussianNB())])\n",
      "Best Cross-Validation Accuracy: 0.3031\n",
      "Best image size: (128, 128)\n",
      "Test Accuracy: 0.3824\n",
      "Test F1 Score: 0.3140\n",
      "\n",
      "Running Grid Search with 7-fold cross-validation:\n",
      "Best Model with 7-fold CV: Pipeline(steps=[('transform', ImageTransform()),\n",
      "                ('sift', SIFTFeatureExtractor(max_features=300)),\n",
      "                ('svd', SVDReducer()), ('classifier', GaussianNB())])\n",
      "Best Cross-Validation Accuracy: 0.2962\n",
      "Best image size: (128, 128)\n",
      "Test Accuracy: 0.1765\n",
      "Test F1 Score: 0.1361\n",
      "\n",
      "Fitting SIFT + KNN : \n",
      "\n",
      "Running Grid Search with 5-fold cross-validation:\n",
      "Best Model with 5-fold CV: Pipeline(steps=[('transform', ImageTransform(image_size=(64, 64))),\n",
      "                ('sift', SIFTFeatureExtractor(max_features=300)),\n",
      "                ('svd', SVDReducer(n_components=140)),\n",
      "                ('classifier', KNeighborsClassifier(n_neighbors=7))])\n",
      "Best Cross-Validation Accuracy: 0.3103\n",
      "Best image size: (64, 64)\n",
      "Test Accuracy: 0.2353\n",
      "Test F1 Score: 0.2542\n",
      "\n",
      "Running Grid Search with 7-fold cross-validation:\n",
      "Best Model with 7-fold CV: Pipeline(steps=[('transform', ImageTransform()),\n",
      "                ('sift', SIFTFeatureExtractor()),\n",
      "                ('svd', SVDReducer(n_components=140)),\n",
      "                ('classifier', KNeighborsClassifier(n_neighbors=7))])\n",
      "Best Cross-Validation Accuracy: 0.3262\n",
      "Best image size: (128, 128)\n",
      "Test Accuracy: 0.2059\n",
      "Test F1 Score: 0.2057\n",
      "\\mFitting Fourier + Decision Tree: \n",
      "\n",
      "Running Grid Search with 5-fold cross-validation:\n",
      "Best Model with 5-fold CV: Pipeline(steps=[('transform', ImageTransform()),\n",
      "                ('fourier', FourierFeatureExtractor()),\n",
      "                ('svd', SVDReducer(n_components=70)),\n",
      "                ('classifier',\n",
      "                 DecisionTreeClassifier(max_depth=5, random_state=192))])\n",
      "Best Cross-Validation Accuracy: 0.3709\n",
      "Best image size: (128, 128)\n",
      "Test Accuracy: 0.2941\n",
      "Test F1 Score: 0.2532\n",
      "\n",
      "Running Grid Search with 7-fold cross-validation:\n",
      "Best Model with 7-fold CV: Pipeline(steps=[('transform', ImageTransform()),\n",
      "                ('fourier', FourierFeatureExtractor()),\n",
      "                ('svd', SVDReducer(n_components=70)),\n",
      "                ('classifier',\n",
      "                 DecisionTreeClassifier(max_depth=5, random_state=192))])\n",
      "Best Cross-Validation Accuracy: 0.3797\n",
      "Best image size: (128, 128)\n",
      "Test Accuracy: 0.3235\n",
      "Test F1 Score: 0.2676\n",
      "\n",
      "Fitting Fourier + Naive Bayes: \n",
      "\n",
      "Running Grid Search with 5-fold cross-validation:\n",
      "Best Model with 5-fold CV: Pipeline(steps=[('transform', ImageTransform(image_size=(64, 64))),\n",
      "                ('fourier', FourierFeatureExtractor()),\n",
      "                ('svd', SVDReducer(n_components=70)),\n",
      "                ('classifier', GaussianNB())])\n",
      "Best Cross-Validation Accuracy: 0.3410\n",
      "Best image size: (64, 64)\n",
      "Test Accuracy: 0.4118\n",
      "Test F1 Score: 0.3640\n",
      "\n",
      "Running Grid Search with 7-fold cross-validation:\n",
      "Best Model with 7-fold CV: Pipeline(steps=[('transform', ImageTransform(image_size=(64, 64))),\n",
      "                ('fourier', FourierFeatureExtractor()),\n",
      "                ('svd', SVDReducer(n_components=70)),\n",
      "                ('classifier', GaussianNB())])\n",
      "Best Cross-Validation Accuracy: 0.3396\n",
      "Best image size: (64, 64)\n",
      "Test Accuracy: 0.3824\n",
      "Test F1 Score: 0.3427\n",
      "\n",
      "Fitting Fourier + KNN: \n",
      "\n",
      "Running Grid Search with 5-fold cross-validation:\n",
      "Best Model with 5-fold CV: Pipeline(steps=[('transform', ImageTransform()),\n",
      "                ('fourier', FourierFeatureExtractor()),\n",
      "                ('svd', SVDReducer(n_components=70)),\n",
      "                ('classifier', KNeighborsClassifier())])\n",
      "Best Cross-Validation Accuracy: 0.3869\n",
      "Best image size: (128, 128)\n",
      "Test Accuracy: 0.3235\n",
      "Test F1 Score: 0.3199\n",
      "\n",
      "Running Grid Search with 7-fold cross-validation:\n",
      "Best Model with 7-fold CV: Pipeline(steps=[('transform', ImageTransform()),\n",
      "                ('fourier', FourierFeatureExtractor()),\n",
      "                ('svd', SVDReducer(n_components=70)),\n",
      "                ('classifier', KNeighborsClassifier(n_neighbors=7))])\n",
      "Best Cross-Validation Accuracy: 0.3797\n",
      "Best image size: (128, 128)\n",
      "Test Accuracy: 0.3235\n",
      "Test F1 Score: 0.2670\n"
     ]
    }
   ],
   "source": [
    "\n",
    "# SIFT + Decision Tree\n",
    "print(\"\\nFitting SIFT + Decision Tree: \")\n",
    "best_sift_decision_tree = fit_with_grid(\n",
    "    sift_decision_tree_pipeline, param_grid_sift_decision_tree, X_train, y_train, X_test, y_test\n",
    ")\n",
    "\n",
    "# SIFT + Naive Bayes\n",
    "print(\"\\nFitting SIFT + Naive Bayes: \")\n",
    "best_sift_naive_bayes = fit_with_grid(\n",
    "    sift_naive_bayes_pipeline, param_grid_naive_sift_bayes, X_train, y_train, X_test, y_test\n",
    ")\n",
    "\n",
    "# SIFT + KNN\n",
    "print(\"\\nFitting SIFT + KNN : \")\n",
    "best_sift_knn = fit_with_grid(\n",
    "    sift_knn_pipeline, param_grid_sift_knn, X_train, y_train, X_test, y_test\n",
    ")\n",
    "\n",
    "# Fourier + Decision Tree\n",
    "print(\"\\mFitting Fourier + Decision Tree: \")\n",
    "best_fourier_decision_tree = fit_with_grid(\n",
    "    fourier_decision_tree_pipeline, param_grid_fourier_decision_tree, X_train, y_train, X_test, y_test\n",
    ")\n",
    "\n",
    "# Fourier + Naive Bayes \n",
    "print(\"\\nFitting Fourier + Naive Bayes: \")\n",
    "best_fourier_naive_bayes = fit_with_grid(\n",
    "    fourier_naive_bayes_pipeline, param_grid_fourier_naive_bayes, X_train, y_train, X_test, y_test\n",
    ")\n",
    "\n",
    "# Fourier + KNN\n",
    "print(\"\\nFitting Fourier + KNN: \")\n",
    "best_fourier_knn = fit_with_grid(\n",
    "    fourier_knn_pipeline, param_grid_fourier_knn, X_train, y_train, X_test, y_test\n",
    ")"
   ],
   "metadata": {
    "collapsed": false,
    "ExecuteTime": {
     "end_time": "2024-10-22T15:54:00.849199Z",
     "start_time": "2024-10-22T15:35:46.847606Z"
    }
   },
   "id": "dc19d959dee9eebd"
  },
  {
   "cell_type": "code",
   "execution_count": null,
   "outputs": [],
   "source": [
    "# sift + decision tree 5-fold better\n",
    "best_sift_decision_model = best_sift_decision_tree[5]['best model']\n",
    "# image size (128,128); sift max_feature = 200; svd n_components = 70; decision tree max_depth=None\n",
    "\n",
    "# sift + bayes 5-fold better\n"
   ],
   "metadata": {
    "collapsed": false
   },
   "id": "862490bd37fe8440"
  }
 ],
 "metadata": {
  "kernelspec": {
   "display_name": "Python 3",
   "language": "python",
   "name": "python3"
  },
  "language_info": {
   "codemirror_mode": {
    "name": "ipython",
    "version": 2
   },
   "file_extension": ".py",
   "mimetype": "text/x-python",
   "name": "python",
   "nbconvert_exporter": "python",
   "pygments_lexer": "ipython2",
   "version": "2.7.6"
  }
 },
 "nbformat": 4,
 "nbformat_minor": 5
}
