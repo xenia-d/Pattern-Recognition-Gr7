{
 "cells": [
  {
   "cell_type": "code",
   "execution_count": 57,
   "id": "initial_id",
   "metadata": {
    "collapsed": true,
    "ExecuteTime": {
     "end_time": "2024-10-13T11:04:59.201826Z",
     "start_time": "2024-10-13T11:04:59.195649Z"
    }
   },
   "outputs": [],
   "source": [
    "import os\n",
    "import tensorflow as tf\n",
    "import cv2\n",
    "import numpy as np\n",
    "from sklearn.base import BaseEstimator, TransformerMixin\n",
    "from sklearn.pipeline import Pipeline\n",
    "from sklearn.decomposition import TruncatedSVD\n",
    "from sklearn.tree import DecisionTreeClassifier\n",
    "from sklearn.naive_bayes import GaussianNB\n",
    "from sklearn.neighbors import KNeighborsClassifier\n",
    "from sklearn.cluster import DBSCAN\n",
    "from sklearn.model_selection import train_test_split, GridSearchCV\n",
    "from sklearn.metrics import accuracy_score, f1_score, confusion_matrix, silhouette_score"
   ]
  },
  {
   "cell_type": "markdown",
   "source": [
    "for dimension reduction look into LDA for class separability and SVD for sparse data\n",
    "SVD may be better for image data for its versatility and noise reduction"
   ],
   "metadata": {
    "collapsed": false
   },
   "id": "e067224aa1691da6"
  },
  {
   "cell_type": "code",
   "execution_count": 62,
   "outputs": [],
   "source": [
    "class ImageLoader(BaseEstimator, TransformerMixin):\n",
    "    def __init__(self, data_directory, image_size=(128, 128)):\n",
    "        self.data_directory = data_directory\n",
    "        self.image_size = image_size\n",
    "        \n",
    "    def fit(self, X=None, y=None):\n",
    "        return self\n",
    "        \n",
    "    def transform(self, X=None, y=None):\n",
    "        images = []\n",
    "        labels = []\n",
    "        # get image labels from the folder names\n",
    "        class_labels = os.listdir(self.data_directory)\n",
    "        class_labels.sort()\n",
    "        # loop through directory\n",
    "        for label_idx, class_name in enumerate(class_labels):\n",
    "            class_dir = os.path.join(self.data_directory, class_name)\n",
    "            # wrong directory\n",
    "            if not os.path.isdir(class_dir): \n",
    "                continue\n",
    "            # loop through image files\n",
    "            for file_name in os.listdir(class_dir):\n",
    "                file_path = os.path.join(class_dir, file_name)\n",
    "                # check for valid image to load\n",
    "                if file_name.endswith(('.jpg', '.jpeg', '.png')):\n",
    "                    # load with opencv\n",
    "                    img = cv2.imread(file_path)\n",
    "                    # preprocessing\n",
    "                    # resize\n",
    "                    img_resized = cv2.resize(img, self.image_size)\n",
    "                    # grayscale\n",
    "                    img_gray = cv2.cvtColor(img_resized, cv2.COLOR_BGR2GRAY)\n",
    "                    # normalization\n",
    "                    img_gray_norm = img_gray / 255.0\n",
    "                    \n",
    "                    # append image with label\n",
    "                    images.append(img_gray_norm)\n",
    "                    labels.append(label_idx)\n",
    "                    \n",
    "        # convert to numpy\n",
    "        images = np.array(images)\n",
    "        labels = np.array(labels)\n",
    "        return images, labels\n"
   ],
   "metadata": {
    "collapsed": false,
    "ExecuteTime": {
     "end_time": "2024-10-13T11:09:24.557300Z",
     "start_time": "2024-10-13T11:09:24.552368Z"
    }
   },
   "id": "274f0b2090e00d17"
  },
  {
   "cell_type": "code",
   "execution_count": 81,
   "outputs": [],
   "source": [
    "class SIFTFeatureExtractor(BaseEstimator, TransformerMixin):\n",
    "    def __init__(self, max_features=500):\n",
    "        # use opencv SIFT\n",
    "        self.sift = cv2.SIFT_create()\n",
    "        self.max_features = max_features\n",
    "\n",
    "    def fit(self, X, y=None):\n",
    "        return self\n",
    "\n",
    "    def transform(self, X):\n",
    "        sift_features = []\n",
    "        for img in X:\n",
    "            # SIFT takes in uint8 format images\n",
    "            img_uint8 = (img * 255).astype(np.uint8)\n",
    "            kp, des = self.sift.detectAndCompute(img_uint8, None)\n",
    "            # features found\n",
    "            if des is not None:\n",
    "                des_flattened = des.flatten()\n",
    "                # descriptors exceed max features truncate\n",
    "                if len(des_flattened) > self.max_features:\n",
    "                    des_flattened = des_flattened[:self.max_features]\n",
    "                # descriptors shorter pad to max features\n",
    "                else: \n",
    "                    des_flattened = np.pad(des_flattened, (0, self.max_features - len(des_flattened)), 'constant')\n",
    "            # no features found\n",
    "            else:\n",
    "                des_flattened = np.zeros(self.max_features)\n",
    "            sift_features.append(des_flattened)\n",
    "        return np.array(sift_features)"
   ],
   "metadata": {
    "collapsed": false,
    "ExecuteTime": {
     "end_time": "2024-10-19T12:52:17.549577Z",
     "start_time": "2024-10-19T12:52:17.547401Z"
    }
   },
   "id": "b7b9a982ced01152"
  },
  {
   "cell_type": "code",
   "execution_count": 72,
   "outputs": [],
   "source": [
    "class FourierFeatureExtractor(BaseEstimator, TransformerMixin):\n",
    "    def fit(self, X, y=None):\n",
    "        return self\n",
    "\n",
    "    def transform(self, X):\n",
    "        fft_features = []\n",
    "        for img in X:\n",
    "            # fft\n",
    "            f_transform = np.fft.fft2(img)\n",
    "            # shift zero frequency to center\n",
    "            f_shift = np.fft.fftshift(f_transform)\n",
    "            magnitude_spectrum = 20 * np.log(np.abs(f_shift))\n",
    "            fft_features.append(magnitude_spectrum.flatten())\n",
    "        return np.array(fft_features)"
   ],
   "metadata": {
    "collapsed": false,
    "ExecuteTime": {
     "end_time": "2024-10-18T15:13:10.016781Z",
     "start_time": "2024-10-18T15:13:10.012097Z"
    }
   },
   "id": "1485633cfece9920"
  },
  {
   "cell_type": "code",
   "execution_count": 74,
   "outputs": [],
   "source": [
    "class SVDReducer(BaseEstimator, TransformerMixin):\n",
    "    def __init__(self, n_components=100):\n",
    "        self.n_components = n_components\n",
    "        self.svd = TruncatedSVD(n_components=self.n_components)\n",
    "\n",
    "    def fit(self, X, y=None):\n",
    "        self.svd.fit(X)\n",
    "        return self\n",
    "\n",
    "    def transform(self, X):\n",
    "        return self.svd.transform(X)"
   ],
   "metadata": {
    "collapsed": false,
    "ExecuteTime": {
     "end_time": "2024-10-18T15:23:41.077499Z",
     "start_time": "2024-10-18T15:23:41.074042Z"
    }
   },
   "id": "4bd13bf3b52e510e"
  },
  {
   "cell_type": "code",
   "execution_count": 75,
   "outputs": [],
   "source": [
    "# set variable\n",
    "data_directory = 'data/BigCats'\n",
    "RANDOM_SEED = 192\n",
    "# kNN neighbors\n",
    "number_neighbor = 5\n",
    "# SVD components\n",
    "n_components = 100"
   ],
   "metadata": {
    "collapsed": false,
    "ExecuteTime": {
     "end_time": "2024-10-18T15:23:42.288689Z",
     "start_time": "2024-10-18T15:23:42.283982Z"
    }
   },
   "id": "66b8add9eaec198c"
  },
  {
   "cell_type": "code",
   "execution_count": 76,
   "outputs": [],
   "source": [
    "decision_tree = DecisionTreeClassifier(random_state=RANDOM_SEED)\n",
    "naive_bayes = GaussianNB()\n",
    "knn = KNeighborsClassifier(n_neighbors=number_neighbor)\n",
    "dbscan = DBSCAN(eps=0.5, min_samples=5)"
   ],
   "metadata": {
    "collapsed": false,
    "ExecuteTime": {
     "end_time": "2024-10-18T15:23:44.009131Z",
     "start_time": "2024-10-18T15:23:44.004947Z"
    }
   },
   "id": "5d5027eec53669ca"
  },
  {
   "cell_type": "code",
   "execution_count": 82,
   "outputs": [],
   "source": [
    "# define the pipelines for different classification methods\n",
    "sift_decision_tree_pipeline = Pipeline([\n",
    "    ('sift', SIFTFeatureExtractor()),\n",
    "    ('svd', SVDReducer(n_components=n_components)),\n",
    "    ('classifier', DecisionTreeClassifier(random_state=RANDOM_SEED))\n",
    "])\n",
    "sift_naive_bayes_pipeline = Pipeline([\n",
    "    ('sift', SIFTFeatureExtractor()),\n",
    "    ('svd', SVDReducer(n_components=n_components)),\n",
    "    ('classifier', GaussianNB())\n",
    "])\n",
    "sift_knn_pipeline = Pipeline([\n",
    "    ('sift', SIFTFeatureExtractor()),\n",
    "    ('svd', SVDReducer(n_components=n_components)),\n",
    "    ('classifier', KNeighborsClassifier(n_neighbors=number_neighbor))\n",
    "])\n",
    "fourier_decision_tree_pipeline = Pipeline([\n",
    "    ('fourier', FourierFeatureExtractor()),\n",
    "    ('svd', SVDReducer(n_components=n_components)),\n",
    "    ('classifier', DecisionTreeClassifier(random_state=RANDOM_SEED))\n",
    "])\n",
    "\n",
    "fourier_naive_bayes_pipeline = Pipeline([\n",
    "    ('fourier', FourierFeatureExtractor()),\n",
    "    ('svd', SVDReducer(n_components=n_components)),\n",
    "    ('classifier', GaussianNB())\n",
    "])\n",
    "\n",
    "fourier_knn_pipeline = Pipeline([\n",
    "    ('fourier', FourierFeatureExtractor()),\n",
    "    ('svd', SVDReducer(n_components=n_components)),\n",
    "    ('classifier', KNeighborsClassifier(n_neighbors=number_neighbor))\n",
    "])\n"
   ],
   "metadata": {
    "collapsed": false,
    "ExecuteTime": {
     "end_time": "2024-10-19T12:52:21.902674Z",
     "start_time": "2024-10-19T12:52:21.899557Z"
    }
   },
   "id": "d2e07e6ccac01617"
  },
  {
   "cell_type": "code",
   "execution_count": 83,
   "outputs": [],
   "source": [
    "# data load and split\n",
    "image_loader = ImageLoader(data_directory=data_directory, image_size=(128, 128))\n",
    "images, labels = image_loader.fit_transform(None)\n",
    "\n",
    "X_train, X_test, y_train, y_test = train_test_split(images, labels, test_size=0.2, random_state=RANDOM_SEED)\n"
   ],
   "metadata": {
    "collapsed": false,
    "ExecuteTime": {
     "end_time": "2024-10-19T12:52:24.820335Z",
     "start_time": "2024-10-19T12:52:24.533907Z"
    }
   },
   "id": "73770780f4459a78"
  },
  {
   "cell_type": "code",
   "execution_count": 84,
   "outputs": [
    {
     "name": "stdout",
     "output_type": "stream",
     "text": [
      "(136, 128, 128)\n",
      "(136,)\n"
     ]
    }
   ],
   "source": [
    "print(X_train.shape)\n",
    "print(y_train.shape)"
   ],
   "metadata": {
    "collapsed": false,
    "ExecuteTime": {
     "end_time": "2024-10-19T12:52:25.502145Z",
     "start_time": "2024-10-19T12:52:25.497378Z"
    }
   },
   "id": "cb30f09f9a849c81"
  },
  {
   "cell_type": "code",
   "execution_count": 85,
   "outputs": [
    {
     "name": "stdout",
     "output_type": "stream",
     "text": [
      "SIFT + Decision Tree: Accuracy = 0.17647058823529413 F1-Score = 0.16275880981763333\n"
     ]
    }
   ],
   "source": [
    "# example call so far\n",
    "# still need parameter search\n",
    "# maybe dimension reduction\n",
    "# or other things\n",
    "sift_decision_tree_pipeline.fit(X_train, y_train)\n",
    "y_pred = sift_decision_tree_pipeline.predict(X_test)\n",
    "print(\"SIFT + Decision Tree: Accuracy =\", accuracy_score(y_test, y_pred), \"F1-Score =\", f1_score(y_test, y_pred, average='weighted'))\n"
   ],
   "metadata": {
    "collapsed": false,
    "ExecuteTime": {
     "end_time": "2024-10-19T12:52:27.905736Z",
     "start_time": "2024-10-19T12:52:27.224949Z"
    }
   },
   "id": "b624dd36c9881a29"
  },
  {
   "cell_type": "code",
   "execution_count": null,
   "outputs": [],
   "source": [],
   "metadata": {
    "collapsed": false
   },
   "id": "86263ae95ba2ddc3"
  }
 ],
 "metadata": {
  "kernelspec": {
   "display_name": "Python 3",
   "language": "python",
   "name": "python3"
  },
  "language_info": {
   "codemirror_mode": {
    "name": "ipython",
    "version": 2
   },
   "file_extension": ".py",
   "mimetype": "text/x-python",
   "name": "python",
   "nbconvert_exporter": "python",
   "pygments_lexer": "ipython2",
   "version": "2.7.6"
  }
 },
 "nbformat": 4,
 "nbformat_minor": 5
}
