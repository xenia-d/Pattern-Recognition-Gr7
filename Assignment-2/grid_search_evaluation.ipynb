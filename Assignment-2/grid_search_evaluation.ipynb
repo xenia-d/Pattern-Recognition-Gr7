{
 "cells": [
  {
   "cell_type": "code",
   "execution_count": 2,
   "metadata": {},
   "outputs": [],
   "source": [
    "import pandas as pd\n",
    "import seaborn as sns\n",
    "import numpy as np\n",
    "import matplotlib.pyplot as plt\n",
    "import os\n",
    "from sklearn.decomposition import PCA\n",
    "from sklearn.feature_selection import SelectKBest, mutual_info_classif\n",
    "from sklearn.ensemble import RandomForestClassifier\n",
    "from sklearn.neighbors import KNeighborsClassifier \n",
    "from sklearn.pipeline import Pipeline\n",
    "from sklearn.cluster import KMeans\n",
    "from sklearn.svm import SVC\n",
    "from sklearn.model_selection import train_test_split, GridSearchCV, KFold, LeaveOneOut\n",
    "from sklearn.preprocessing import LabelEncoder, normalize\n",
    "from sklearn.metrics import  make_scorer, accuracy_score, f1_score, confusion_matrix, roc_auc_score, silhouette_score, confusion_matrix, ConfusionMatrixDisplay\n",
    "from sklearn.metrics.cluster import normalized_mutual_info_score\n",
    "import pickle\n",
    "import joblib"
   ]
  },
  {
   "cell_type": "code",
   "execution_count": 2,
   "metadata": {},
   "outputs": [
    {
     "name": "stdout",
     "output_type": "stream",
     "text": [
      "c:\\Users\\polyx\\Desktop\\Pattern-Recognition-Gr7\\venv\\Scripts\\python.exe\n",
      "C:\\Users\\polyx\\AppData\\Local\\Programs\\Python\\Python310\\python.exe\n",
      "C:\\Users\\polyx\\AppData\\Local\\Microsoft\\WindowsApps\\python.exe\n"
     ]
    }
   ],
   "source": [
    "!where python"
   ]
  },
  {
   "cell_type": "code",
   "execution_count": 35,
   "metadata": {},
   "outputs": [
    {
     "name": "stdout",
     "output_type": "stream",
     "text": [
      "2.1.2\n"
     ]
    }
   ],
   "source": [
    "import sklearn\n",
    "print(np.__version__)"
   ]
  },
  {
   "cell_type": "code",
   "execution_count": 3,
   "metadata": {},
   "outputs": [
    {
     "name": "stdout",
     "output_type": "stream",
     "text": [
      "{'mean_fit_time': array([62.81941545, 62.63066113, 61.84940863,  0.43674004,  0.4470948 ]), 'std_fit_time': array([4.00435567e-01, 1.43224835e-01, 2.48682737e-01, 2.68340111e-04,\n",
      "       1.90166235e-02]), 'mean_score_time': array([0.08143139, 0.08802009, 0.08623457, 0.10415721, 0.62784946]), 'std_score_time': array([2.28476524e-03, 2.30789185e-04, 2.95639038e-05, 9.67979431e-05,\n",
      "       6.28244877e-03]), 'param_classifier': masked_array(data=[RandomForestClassifier(random_state=12),\n",
      "                   KNeighborsClassifier(), KNeighborsClassifier(),\n",
      "                   SVC(random_state=12), SVC(random_state=12)],\n",
      "             mask=[False, False, False, False, False],\n",
      "       fill_value=np.str_('?'),\n",
      "            dtype=object), 'param_feature_selection': masked_array(data=[SelectKBest(score_func=<function mutual_info_classif at 0x00000289BB349090>),\n",
      "                   SelectKBest(score_func=<function mutual_info_classif at 0x00000289BB349090>),\n",
      "                   SelectKBest(score_func=<function mutual_info_classif at 0x00000289BB349090>),\n",
      "                   PCA(), --],\n",
      "             mask=[False, False, False, False,  True],\n",
      "       fill_value=np.str_('?'),\n",
      "            dtype=object), 'param_feature_selection__k': masked_array(data=[500, 10, 10, --, --],\n",
      "             mask=[False, False, False,  True,  True],\n",
      "       fill_value=999999), 'param_classifier__n_neighbors': masked_array(data=[--, 3, 5, --, --],\n",
      "             mask=[ True, False, False,  True,  True],\n",
      "       fill_value=999999), 'param_feature_selection__n_components': masked_array(data=[--, --, --, 2, --],\n",
      "             mask=[ True,  True,  True, False,  True],\n",
      "       fill_value=999999), 'params': [{'classifier': RandomForestClassifier(random_state=12), 'feature_selection': SelectKBest(score_func=<function mutual_info_classif at 0x00000289BB349090>), 'feature_selection__k': 500}, {'classifier': KNeighborsClassifier(), 'classifier__n_neighbors': 3, 'feature_selection': SelectKBest(score_func=<function mutual_info_classif at 0x00000289BB349090>), 'feature_selection__k': 10}, {'classifier': KNeighborsClassifier(), 'classifier__n_neighbors': 5, 'feature_selection': SelectKBest(score_func=<function mutual_info_classif at 0x00000289BB349090>), 'feature_selection__k': 10}, {'classifier': SVC(random_state=12), 'feature_selection': PCA(), 'feature_selection__n_components': 2}, {'classifier': SVC(random_state=12)}], 'split0_test_accuracy': array([0.990625, 0.99375 , 0.9875  , 0.8     , 0.990625]), 'split1_test_accuracy': array([1.      , 0.9875  , 0.990625, 0.875   , 1.      ]), 'mean_test_accuracy': array([0.9953125, 0.990625 , 0.9890625, 0.8375   , 0.9953125]), 'std_test_accuracy': array([0.0046875, 0.003125 , 0.0015625, 0.0375   , 0.0046875]), 'rank_test_accuracy': array([1, 3, 4, 5, 1], dtype=int32), 'split0_test_f1': array([0.99060844, 0.99375   , 0.9875711 , 0.73002268, 0.99060942]), 'split1_test_f1': array([1.        , 0.98754446, 0.99065364, 0.86137782, 1.        ]), 'mean_test_f1': array([0.99530422, 0.99064723, 0.98911237, 0.79570025, 0.99530471]), 'std_test_f1': array([0.00469578, 0.00310277, 0.00154127, 0.06567757, 0.00469529]), 'rank_test_f1': array([2, 3, 4, 5, 1], dtype=int32)}\n"
     ]
    }
   ],
   "source": [
    "with open('all_cv_grid_search_results.pkl', 'rb') as file:\n",
    "    grid_search_results = pickle.load(file)\n",
    "\n",
    "\n",
    "print(grid_search_results['KFold_2']['grid'].cv_results_)"
   ]
  },
  {
   "cell_type": "code",
   "execution_count": 8,
   "metadata": {},
   "outputs": [],
   "source": [
    "def create_ranked_lists(grid_search_results):\n",
    "\n",
    "    cv_results = grid_search_results['KFold_2']['grid'].cv_results_\n",
    "    \n",
    "    df = pd.DataFrame({\n",
    "        'mean_fit_time': cv_results['mean_fit_time'],\n",
    "        'mean_score_time': cv_results['mean_score_time'],\n",
    "        'mean_test_f1': cv_results['mean_test_f1'],\n",
    "        'params': cv_results['params']  # Access to model configurations\n",
    "    })\n",
    "\n",
    "    # Rank models based on mean_score_time\n",
    "    df_ranked_by_score_time = df.sort_values(by='mean_score_time', ascending=True).reset_index(drop=True)\n",
    "\n",
    "    # Rank models based on mean_fit_time\n",
    "    df_ranked_by_fit_time = df.sort_values(by='mean_fit_time', ascending=True).reset_index(drop=True)\n",
    "\n",
    "    return df_ranked_by_score_time, df_ranked_by_fit_time"
   ]
  },
  {
   "cell_type": "code",
   "execution_count": 15,
   "metadata": {},
   "outputs": [
    {
     "data": {
      "text/plain": [
       "{'classifier': RandomForestClassifier(random_state=12),\n",
       " 'feature_selection': SelectKBest(score_func=<function mutual_info_classif at 0x00000289BB349090>),\n",
       " 'feature_selection__k': 500}"
      ]
     },
     "execution_count": 15,
     "metadata": {},
     "output_type": "execute_result"
    }
   ],
   "source": [
    "ranked_by_score_time[['params'][0]][0]"
   ]
  },
  {
   "cell_type": "code",
   "execution_count": 9,
   "metadata": {},
   "outputs": [
    {
     "name": "stdout",
     "output_type": "stream",
     "text": [
      "Ranked by Mean Score Time:\n",
      "   mean_score_time  mean_test_f1  \\\n",
      "0         0.081431      0.995304   \n",
      "1         0.086235      0.989112   \n",
      "2         0.088020      0.990647   \n",
      "3         0.104157      0.795700   \n",
      "4         0.627849      0.995305   \n",
      "\n",
      "                                              params  \n",
      "0  {'classifier': RandomForestClassifier(random_s...  \n",
      "1  {'classifier': KNeighborsClassifier(), 'classi...  \n",
      "2  {'classifier': KNeighborsClassifier(), 'classi...  \n",
      "3  {'classifier': SVC(random_state=12), 'feature_...  \n",
      "4               {'classifier': SVC(random_state=12)}  \n",
      "\n",
      "Ranked by Mean Fit Time:\n",
      "   mean_fit_time  mean_test_f1  \\\n",
      "0       0.436740      0.795700   \n",
      "1       0.447095      0.995305   \n",
      "2      61.849409      0.989112   \n",
      "3      62.630661      0.990647   \n",
      "4      62.819415      0.995304   \n",
      "\n",
      "                                              params  \n",
      "0  {'classifier': SVC(random_state=12), 'feature_...  \n",
      "1               {'classifier': SVC(random_state=12)}  \n",
      "2  {'classifier': KNeighborsClassifier(), 'classi...  \n",
      "3  {'classifier': KNeighborsClassifier(), 'classi...  \n",
      "4  {'classifier': RandomForestClassifier(random_s...  \n"
     ]
    }
   ],
   "source": [
    "ranked_by_score_time, ranked_by_fit_time = create_ranked_lists(grid_search_results)\n",
    "\n",
    "print(\"Ranked by Mean Score Time:\")\n",
    "print(ranked_by_score_time[['mean_score_time', 'mean_test_f1', 'params']])\n",
    "print(\"\\nRanked by Mean Fit Time:\")\n",
    "print(ranked_by_fit_time[['mean_fit_time', 'mean_test_f1', 'params']])"
   ]
  },
  {
   "cell_type": "code",
   "execution_count": null,
   "metadata": {},
   "outputs": [],
   "source": []
  }
 ],
 "metadata": {
  "kernelspec": {
   "display_name": "venv",
   "language": "python",
   "name": "python3"
  },
  "language_info": {
   "codemirror_mode": {
    "name": "ipython",
    "version": 3
   },
   "file_extension": ".py",
   "mimetype": "text/x-python",
   "name": "python",
   "nbconvert_exporter": "python",
   "pygments_lexer": "ipython3",
   "version": "3.10.7"
  }
 },
 "nbformat": 4,
 "nbformat_minor": 2
}
